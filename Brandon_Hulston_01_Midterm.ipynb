{
  "cells": [
    {
      "cell_type": "markdown",
      "id": "da4d0997",
      "metadata": {
        "toc": true,
        "id": "da4d0997"
      },
      "source": [
        "<h1>Table of Contents<span class=\"tocSkip\"></span></h1>\n",
        "<div class=\"toc\"><ul class=\"toc-item\"><li><span><a href=\"#Instructions\" data-toc-modified-id=\"Instructions-1\"><span class=\"toc-item-num\">1&nbsp;&nbsp;</span>Instructions</a></span></li><li><span><a href=\"#Before-You-Begin\" data-toc-modified-id=\"Before-You-Begin-2\"><span class=\"toc-item-num\">2&nbsp;&nbsp;</span>Before You Begin</a></span></li><li><span><a href=\"#Limit-Order-Books\" data-toc-modified-id=\"Limit-Order-Books-3\"><span class=\"toc-item-num\">3&nbsp;&nbsp;</span>Limit Order Books</a></span><ul class=\"toc-item\"><li><span><a href=\"#Exchanges-as-Trade-Facilitators\" data-toc-modified-id=\"Exchanges-as-Trade-Facilitators-3.1\"><span class=\"toc-item-num\">3.1&nbsp;&nbsp;</span>Exchanges as Trade Facilitators</a></span></li><li><span><a href=\"#Trade-Facilitation-Through-Limit-Order-Books\" data-toc-modified-id=\"Trade-Facilitation-Through-Limit-Order-Books-3.2\"><span class=\"toc-item-num\">3.2&nbsp;&nbsp;</span>Trade Facilitation Through Limit Order Books</a></span></li><li><span><a href=\"#Limit-Order-Books-and-Their-Matching-Engines\" data-toc-modified-id=\"Limit-Order-Books-and-Their-Matching-Engines-3.3\"><span class=\"toc-item-num\">3.3&nbsp;&nbsp;</span>Limit Order Books and Their Matching Engines</a></span><ul class=\"toc-item\"><li><span><a href=\"#Order-Types\" data-toc-modified-id=\"Order-Types-3.3.1\"><span class=\"toc-item-num\">3.3.1&nbsp;&nbsp;</span>Order Types</a></span></li><li><span><a href=\"#Price-Time-Priority-Policy\" data-toc-modified-id=\"Price-Time-Priority-Policy-3.3.2\"><span class=\"toc-item-num\">3.3.2&nbsp;&nbsp;</span>Price-Time Priority Policy</a></span></li></ul></li><li><span><a href=\"#Additional-Resources-If-Interested---Not-Necessary-to-Know\" data-toc-modified-id=\"Additional-Resources-If-Interested---Not-Necessary-to-Know-3.4\"><span class=\"toc-item-num\">3.4&nbsp;&nbsp;</span>Additional Resources If Interested - Not Necessary to Know</a></span></li></ul></li><li><span><a href=\"#Repeat-of-Instructions\" data-toc-modified-id=\"Repeat-of-Instructions-4\"><span class=\"toc-item-num\">4&nbsp;&nbsp;</span>Repeat of Instructions</a></span></li><li><span><a href=\"#Questions\" data-toc-modified-id=\"Questions-5\"><span class=\"toc-item-num\">5&nbsp;&nbsp;</span>Questions</a></span><ul class=\"toc-item\"><li><span><a href=\"#Question-1-(20-points)---Fill-Probabilities,-Expected-Fill-Time,-and-Slippage\" data-toc-modified-id=\"Question-1-(20-points)---Fill-Probabilities,-Expected-Fill-Time,-and-Slippage-5.1\"><span class=\"toc-item-num\">5.1&nbsp;&nbsp;</span>Question 1 (20 points) - Fill Probabilities, Expected Fill Time, and Slippage</a></span></li><li><span><a href=\"#Question-2-(20-points)---Implementation-Shortfall\" data-toc-modified-id=\"Question-2-(20-points)---Implementation-Shortfall-5.2\"><span class=\"toc-item-num\">5.2&nbsp;&nbsp;</span>Question 2 (20 points) - Implementation Shortfall</a></span></li><li><span><a href=\"#Question-3-(20-points)---Initialize-a-Limit-Order-Book\" data-toc-modified-id=\"Question-3-(20-points)---Initialize-a-Limit-Order-Book-5.3\"><span class=\"toc-item-num\">5.3&nbsp;&nbsp;</span>Question 3 (20 points) - Initialize a Limit Order Book</a></span></li><li><span><a href=\"#Question-4-(20-points)---Order-Flow-Simulation\" data-toc-modified-id=\"Question-4-(20-points)---Order-Flow-Simulation-5.4\"><span class=\"toc-item-num\">5.4&nbsp;&nbsp;</span>Question 4 (20 points) - Order Flow Simulation</a></span></li><li><span><a href=\"#Question-5-(20-points)---Order-Processing-and-Price-Time-Priority-Policy\" data-toc-modified-id=\"Question-5-(20-points)---Order-Processing-and-Price-Time-Priority-Policy-5.5\"><span class=\"toc-item-num\">5.5&nbsp;&nbsp;</span>Question 5 (20 points) - Order Processing and Price-Time Priority Policy</a></span></li><li><span><a href=\"#Extra-Credit-(10-points)\" data-toc-modified-id=\"Extra-Credit-(10-points)-5.6\"><span class=\"toc-item-num\">5.6&nbsp;&nbsp;</span>Extra Credit (10 points)</a></span></li></ul></li><li><span><a href=\"#Extensions-(If-Interested,-Not-Required)\" data-toc-modified-id=\"Extensions-(If-Interested,-Not-Required)-6\"><span class=\"toc-item-num\">6&nbsp;&nbsp;</span>Extensions (If Interested, Not Required)</a></span></li></ul></div>"
      ]
    },
    {
      "cell_type": "markdown",
      "id": "65cb23aa",
      "metadata": {
        "id": "65cb23aa"
      },
      "source": [
        "<h1>Instructions</h1>\n",
        "<br>\n",
        "<font size=\"+1\">\n",
        "    <ul>\n",
        "        <li>The goal of this midterm is to test your mastery of the skills taught in the previous weeks, which culminates in creating simulation models using Python and algorithmic thinking.</li>\n",
        "        <br>\n",
        "        <li>Additionally, it is meant to serve as a case study that you can extend in many directions, if you are interested in doing a personal project.</li>\n",
        "        <br> \n",
        "        <li style=\"color:red\"><b>After completing this Jupyter notebook, submit the <i>.ipynb</i> file on TurnItIn on Blackboard by the deadline. Be sure to refresh the page and double check your submission actually went through.</b></li>\n",
        "        <br>\n",
        "        <li>You are allowed to consult any resources posted online as well as any books or notes, but you <b>cannot</b> ask someone for help or share your solutions with anyone.</li>\n",
        "        <br>\n",
        "        <ul>\n",
        "            <li><b>Any violation of academic integrity will result in a failing grade for everyone involved, please do not do this.</b></li>\n",
        "            <br>\n",
        "        </ul>\n",
        "        <br>\n",
        "        <hr style=\"border:10px solid black\">\n",
        "        <br>\n",
        "        <li style=\"color:black\"><b>Grading:</b> Your grade will be out of $100$ points coming from $5$ questions, each worth $20$ points. There will also be one extra credit problem worth $10$ points.</li>\n",
        "        <br>\n",
        "    </ul>\n",
        "</font>"
      ]
    },
    {
      "cell_type": "markdown",
      "id": "385c42a5",
      "metadata": {
        "id": "385c42a5"
      },
      "source": [
        "<hr style=\"border: 20px solid black\">"
      ]
    },
    {
      "cell_type": "markdown",
      "id": "096f5f7b",
      "metadata": {
        "id": "096f5f7b"
      },
      "source": [
        "<h1>Before You Begin</h1>\n",
        "<br>\n",
        "<font size=\"+1\">\n",
        "    <ul>\n",
        "        <li>Please read the following section on <b>Limit Order Books</b> as business intelligence and operations background necessary for this research.</li>\n",
        "        <br>\n",
        "    </ul>\n",
        "</font>"
      ]
    },
    {
      "cell_type": "markdown",
      "id": "d03d1f25",
      "metadata": {
        "id": "d03d1f25"
      },
      "source": [
        "<hr style=\"border: 20px solid black\">"
      ]
    },
    {
      "cell_type": "markdown",
      "id": "b39ca6ea",
      "metadata": {
        "id": "b39ca6ea"
      },
      "source": [
        "<h1>Limit Order Books</h1>\n",
        "<br>\n",
        "<font size=\"+1\">\n",
        "    <ul>\n",
        "        <li>Any time you want to <b>buy or sell</b> a financial security (stocks, ETFs, bonds, futures, options, etc.), whether it be in a personal brokerage account on TD Ameritrade, Charles Schwab, or Robinhood, or a retirement account such as a 401(k) or IRA, you </li>\n",
        "        <br>\n",
        "        <ul>\n",
        "            <li>first <b>send a particular order to your broker</b> with instructions on what you want to buy/sell, in what quantity, at what price you are willing to accept, and for how long, etc.,</li>\n",
        "            <br>\n",
        "            <li>second, your broker <b>determines how to best get your order filled or completed</b> on one or many exchanges, or even off of an exchange; this is called <b>routing</b> your order and brokers have many choices regarding how they attempt to fulfill your order,</li>\n",
        "            <br>\n",
        "            <li>finally, after the broker decides how to <a href=\"https://www.investor.gov/introduction-investing/investing-basics/how-stock-markets-work/executing-order\">route your order</a>, if your order gets completed, then your order has been executed,</li>\n",
        "            <br>\n",
        "            <ul>\n",
        "                <li>your <b>order execution</b>, meaning the price that your order gets filled, can vary (sometimes significantly) from what you were expecting when you submitted your order to the broker.</li>\n",
        "                <br>\n",
        "            </ul>\n",
        "        </ul>\n",
        "        <li>A limit order book is a centralized database of resting <b>limit orders</b> that keeps track of all orders (buy or sell) on an exchange (i.e. in a marketplace).</li>\n",
        "        <br>\n",
        "        <li>For simplicity, we will assume you can interact directly with a limit order book when submitting orders, in other words, you are a broker.</li>\n",
        "        <br>\n",
        "        <hr style=\"border:10px solid black\">\n",
        "        <br>\n",
        "        <li>The following is a depiction of a limit order book stacked vertically and horizontally, respectively.</li>\n",
        "        <br>\n",
        "        <li>The order book contains prices at which people are <b style=\"color:green\">willing to buy in green, these are referred to as <i>bids</i></b> and prices at which people are <b style=\"color:red\">willing to sell in red, these are referred to as <i>asks or offers</i></b>, and the associated <b>quantities (volume)</b> at each <b style=\"color:green\">buy (bid)</b> or <b style=\"color:red\">sell (ask)</b> price.</li>\n",
        "        <br>\n",
        "        <li>The other <i>\"price\"</i> that is commonly referenced is the <b style=\"color:blue\">mid price</b>, which is the midpoint of the <b style=\"color:green\">bid price</b> and the <b style=\"color:red\">ask price</b> (recall the midpoint between two numbers $x, y$ is $\\frac{x+y}{2}$).</li>\n",
        "        <br>\n",
        "        <li>The difference between the best ask and best bid, i.e. lowest sell price and highest buy price, is called the <b>spread</b>.</li>\n",
        "        <br>\n",
        "        <li>In this market structure, the only way people transact is if someone <b>crosses the spread</b>, which means they are willing to buy at the ask, or sell at the bid. In this event, a trade is executed, and the quantity available gets reduced by the amount traded.</li>\n",
        "        <br>\n",
        "        <li><img src=\"https://www.machow.ski/intro_to_orderbooks/vertical_vs_sidebyside.png\"></li>\n",
        "        <br>\n",
        "        <li>There is no difference between a vertically (left image above) or horizontally (right image above) stacked order book, it is simply two different ways of displaying the same information.</li>\n",
        "        <br>\n",
        "        <li>In the above examples of a limit order book for Bitcoin (BTC),</li>\n",
        "        <br>\n",
        "        <ul>\n",
        "            <li>in the vertically stacked order book, the highest willingness to buy price (bid) is $\\$31,907.34$, with $0.185177$ number of shares as its volume, and the lowest willingness to sell price (ask) is $\\$31,907.35$, with $0.619497$ number of shares as its volume; this implies the spread is $\\$0.01$,</li>\n",
        "            <br>\n",
        "            <li>in the horizontally stacked order book, the highest willingness to buy price (bid) is $\\$31,892.00$, with $3.7062$ number of shares as its volume, and the lowest willingness to sell price (ask) is $\\$31,893.00$, with $1.4041$ number of shares as its volume; this implies the spread is $\\$1.00$.</li>\n",
        "            <br>\n",
        "        </ul>\n",
        "        <li style=\"color:red\">A limit order book can be thought of a queueing system, where each buy and sell price has a queue (line) consisting of all possible order quantites, ordered by their arrival time, that want to transact at that price.</li>\n",
        "        <br>\n",
        "    </ul>\n",
        "</font>"
      ]
    },
    {
      "cell_type": "markdown",
      "id": "3d579119",
      "metadata": {
        "id": "3d579119"
      },
      "source": [
        "<hr style=\"border:10px solid black\">"
      ]
    },
    {
      "cell_type": "markdown",
      "id": "38131f12",
      "metadata": {
        "id": "38131f12"
      },
      "source": [
        "<h2>Exchanges as Trade Facilitators</h2>\n",
        "<br>\n",
        "<font size=\"+1\">\n",
        "    <ul>\n",
        "        <li>An exchange is simply a marketplace, or market, that helps bring parties together who want to buy or sell things, in a centralized way.</li>\n",
        "        <br>\n",
        "        <li>Put succinctly, a market or exchange helps solve the matching problem (i.e. the bilateral-search problem) by bringing together all buyers and sellers.</li>\n",
        "        <br>\n",
        "        <li>Once buyers and sellers are brought together, there needs to be a way to organize their buying and selling inside the marketplace.</li>\n",
        "        <br>\n",
        "        <li>This is where an order book (specifically a limit order book) can add value by organizing all the buyers and sellers in the marketplace and matching them according to a rule/policy/algorithm.</li>\n",
        "        <br>\n",
        "        <ul>\n",
        "            <li>The typical matching policy is to first match orders with better prices and if there are no better prices, then match orders according to their arrival times, this is known as the <i>price-time priority policy</i>.</li>\n",
        "            <br>\n",
        "        </ul>\n",
        "    </ul>\n",
        "</font>"
      ]
    },
    {
      "cell_type": "markdown",
      "id": "f3c0c929",
      "metadata": {
        "id": "f3c0c929"
      },
      "source": [
        "<hr style=\"border:10px solid black\">"
      ]
    },
    {
      "cell_type": "markdown",
      "id": "9645913b",
      "metadata": {
        "id": "9645913b"
      },
      "source": [
        "<h2>Trade Facilitation Through Limit Order Books</h2>\n",
        "<br>\n",
        "<font size=\"+1\">\n",
        "    <ul>\n",
        "        <li>People utilize these marketplaces by trading with one another through a <b>limit order book</b>.</li>\n",
        "        <br>\n",
        "        <ul>\n",
        "            <li>A limit order book is a <b>list of orders</b> that a trading venue, such as the New York Stock Exchange (NYSE), uses to record the interest of buyers and sellers in a particular financial asset.</li>\n",
        "            <br>\n",
        "            <li>The limit order book allows <i>impatient</i> traders to trade immediately, and allows <i>patient</i> traders to post an order and wait for a better price.</li>\n",
        "            <br>\n",
        "            <li>Orders to trade immediately are called <b>market orders</b>. Orders\n",
        "                to wait until the desired price is reached (if ever) are called <b>limit orders</b>.</li>\n",
        "            <br>\n",
        "            <ul>\n",
        "                <li>Impatient traders use market orders.</li>\n",
        "                <br>\n",
        "                <li>Patient traders use limit orders.</li>\n",
        "                <br>\n",
        "                <li>Market and limit orders will be discussed more in the follwing sections.</li>\n",
        "                <br>\n",
        "            </ul>\n",
        "        </ul>\n",
        "        <li>When orders are placed inside this marketplace, the limit order book must get updated.</li>\n",
        "        <br>\n",
        "        <li>Specifically, orders arrive with a time (arrival time), a quantity (how many shares are traded), a price (which you are willing to trade at),  and a side of the market (<b style=\"color:green\">buy side</b> or <b style=\"color:red\">sell side</b>).</li>\n",
        "        <br>\n",
        "        <ul>\n",
        "            <li>In general, orders can include very complicated instructions as well, but we will not get into these details here.</li>\n",
        "            <br>\n",
        "        </ul>\n",
        "        <li>The following image is a record of order data that arrives in the marketplace when people want to transact.</li>\n",
        "        <br>\n",
        "        <li><img src=\"https://www.machow.ski/intro_to_orderbooks/ob_anatomy.png\"></li>\n",
        "        <br>\n",
        "        <li>The following image is a more appealing way to visualize limit order books in a horizontal format. As limit orders arrive they are added to the back of the queue (line) at the price specified in the order.</li>\n",
        "        <br>\n",
        "        <li><img src=\"https://www.researchgate.net/profile/Joaquin-Fernandez-Tapia/publication/284900784/figure/fig3/AS:652208416763906@1532510012149/Graphical-representation-of-the-Limit-Order-Book.png\"></li>\n",
        "        <br>\n",
        "        <li>The following image is a more appealing way to visualize limit order books in a vertical format. As limit orders arrive they are added to the back of the queue (line) at the price specified in the order.</li>\n",
        "        <br>\n",
        "        <li><img src=\"https://s3.amazonaws.com/quantstartmedia/images/qs-imanol-hft-lob-lob.jpg\"></li>\n",
        "        <br>\n",
        "    </ul>\n",
        "</font>"
      ]
    },
    {
      "cell_type": "markdown",
      "id": "c7de9f4e",
      "metadata": {
        "id": "c7de9f4e"
      },
      "source": [
        "<hr style=\"border:10px solid black\">"
      ]
    },
    {
      "cell_type": "markdown",
      "id": "db1812dd",
      "metadata": {
        "id": "db1812dd"
      },
      "source": [
        "<h2>Limit Order Books and Their Matching Engines</h2>\n",
        "<br>\n",
        "<font size=\"+1\">\n",
        "    <ul>\n",
        "        <li>Many markets arrange their trades, i.e. facilitate their trades, by using a set of rules to match submitted buy and sell orders.</li>\n",
        "        <br>\n",
        "        <li>To understand how these markets work, you have to understand how orders are specified, specifically you need to know what a market order and a limit order is.</li>\n",
        "        <br>\n",
        "    </ul>\n",
        "</font>"
      ]
    },
    {
      "cell_type": "markdown",
      "id": "a4e1649c",
      "metadata": {
        "id": "a4e1649c"
      },
      "source": [
        "<h3>Order Types</h3>\n",
        "<br>\n",
        "<font size=\"+1\">\n",
        "    <ul>\n",
        "        <li>For simplicity, we will assume there are only two types of orders a user can place on the exchange, a <b>market order</b> and <b>limit order</b>, and the only actions a user can do to manage their orders are <b>cancel</b> them or <b>submit</b> them to the exchange at a desired price and quantity.</li>\n",
        "        <br>\n",
        "        <ul>\n",
        "            <li>In practice, there are many complex or exotic order types that vary by exchange; there are also many ways to manage orders using various conditional statements, but we will ignore these in this case study.</li>\n",
        "            <br>\n",
        "        </ul>\n",
        "        <li>A limit order is an instruction to your broker that limits the prices that you are willing to accept for a given quantity that you want to buy or sell. It will typically take some time to fill this order, if it ever gets filled.</li>\n",
        "        <br>\n",
        "        <li>A market order is an instruction to your broker to buy or sell at the best price currently available in the market. This will always execute, though typically at less favorable (sometimes far less) favorable prices than a limit order.</li>\n",
        "        <br>\n",
        "        <li>So there is a trade off:</li>\n",
        "        <br>\n",
        "        <ul>\n",
        "            <li>use a market order and pay a worse price but be sure your order will be filled quickly,</li>\n",
        "            <br>\n",
        "            <li>or use a limit order and pay a better price but with some uncertainty around when your order will get filled, or even if your order will get filled at all.</li>\n",
        "            <br>\n",
        "        </ul>\n",
        "        <li>In summary,</li>\n",
        "        <br>\n",
        "        <ul>\n",
        "            <li>there are two types of orders the buyers (sellers) can submit: a limit buy (sell) order with a preferred price for a given volume of the asset, or a market buy (sell) order with a given volume which will be immediately executed with the best available limit sell (buy) orders.</li>\n",
        "            <br>\n",
        "            <li>Therefore, limit orders have a price guarantee but are not guaranteed to be executed, whereas market orders are executed immediately at the best available price, which might not always be the most favorable.</li>\n",
        "            <br>\n",
        "            <li>The lowest price of all limit sell orders is called the ask price, and the highest price of all limit buy orders is called the bid price.</li>\n",
        "            <br>\n",
        "            <li>The difference between the ask price and bid price is known as the spread and the average of the ask price and bid price is known as the mid price.</li>\n",
        "            <br>\n",
        "        </ul>\n",
        "    </ul>\n",
        "</font>"
      ]
    },
    {
      "cell_type": "markdown",
      "id": "e3bbc2b1",
      "metadata": {
        "id": "e3bbc2b1"
      },
      "source": [
        "<h3>Price-Time Priority Policy</h3>\n",
        "<br>\n",
        "<font size=\"+1\">\n",
        "    <ul>\n",
        "        <li>A matching engine (i.e. exchange) uses the LOB to store pending orders and match them with the incoming buy and sell orders.</li>\n",
        "        <br>\n",
        "        <li>This typically follows the price-time priority rule, whereby</li>\n",
        "        <br>\n",
        "        <ul>\n",
        "            <li>orders are first ranked according to their price,</li>\n",
        "            <br>\n",
        "            <li>and multiple orders having the same price are then ranked according to the time they were submitted.</li>\n",
        "            <br>\n",
        "        </ul>\n",
        "        <li>So if an order arrives to buy/sell, and it is the best price to buy/sell, it will be given priority and ranked highest for the buy/sell side. If an order comes in at an existing price, then it will be given priority according to its arrival time in the queue (line) for that price, meaning the order goes to the \"back of the line\" at the given price.</li>\n",
        "        <br>\n",
        "        <li>This matching policy is what makes the state of the order book change over time.</li>\n",
        "        <br>\n",
        "        <li>The first image below is a snapshot of a limit order book at a fixed point in time.</li>\n",
        "        <br>\n",
        "        <li>The second image below is an order book whose state is changing by orders being filled according to the price-time priority policy.</li>\n",
        "        <br>\n",
        "    </ul>\n",
        "</font>"
      ]
    },
    {
      "cell_type": "markdown",
      "id": "b905f3b1",
      "metadata": {
        "id": "b905f3b1"
      },
      "source": [
        "<img src=\"Images/LOB_fixed_point_in_time.png\" width=\"900\">"
      ]
    },
    {
      "cell_type": "markdown",
      "id": "3238a933",
      "metadata": {
        "id": "3238a933"
      },
      "source": [
        "<img src=\"https://www.oxford-man.ox.ac.uk/wp-content/uploads/2021/05/Interactive-image.gif\">"
      ]
    },
    {
      "cell_type": "markdown",
      "id": "72eb1d0b",
      "metadata": {
        "id": "72eb1d0b"
      },
      "source": [
        "<hr style=\"border:10px solid black\">"
      ]
    },
    {
      "cell_type": "markdown",
      "id": "153aa3ea",
      "metadata": {
        "id": "153aa3ea"
      },
      "source": [
        "<h2>Additional Resources If Interested - Not Necessary to Know</h2>\n",
        "<br>\n",
        "<font size=\"+1\">\n",
        "    <ul>\n",
        "        <li><a href=\"https://en.wikipedia.org/wiki/Central_limit_order_book\">Central Limit Order Books</a></li>\n",
        "        <br>\n",
        "        <li><a href=\"https://en.wikipedia.org/wiki/Order_matching_system\">Order Matching System</a></li>\n",
        "        <br>\n",
        "        <li><a href=\"https://www.machow.ski/posts/2021-07-18-introduction-to-limit-order-books/\">Introduction to Limit Order Books I</a></li>\n",
        "        <br>\n",
        "        <li><a href=\"https://www.maths.ox.ac.uk/system/files/attachments/NUS-LOB19.pdf\">Introduction to Limit Order Books II</a></li>\n",
        "        <br>\n",
        "        <li><a href=\"https://quantitativebrokers.com/blog/a-brief-history-of-implementation-shortfall#:~:text=Implementation%20Shortfall%20(IS)%20is%20defined,quantity%20unexecuted%20during%20the%20implementation.\">A Brief History of Implementation Shortfall - Quantitative Brokers</a></li>\n",
        "        <br>\n",
        "        <li>The order book evolves dynamically over time with orders being received, filled, and cancelled at various price levels and quantities <br><img src=\"https://upload.wikimedia.org/wikipedia/commons/1/14/Order_book_depth_chart.gif\" width=\"300\"></li>\n",
        "        <br>\n",
        "        <li>Since 2001, the SEC has required brokers to make details available\n",
        "regarding their routing practice through <a href=\"https://www.goldmansachs.com/compliance-rule606/#:~:text=U.S.%20Securities%20and%20Exchange%20Commission,stocks%2C%20as%20well%20as%20both\">Rule 606</a>. Further, the SEC requires brokers to disclose the routing details of their specific orders to investors upon request, as well as statistics related to execution quality.</li>\n",
        "        <br>\n",
        "        <ul>\n",
        "            <li style=\"color:red\">This is where one could start to gather data if one wanted to pursue this topic further (it is very interesting!).</li>\n",
        "            <br>\n",
        "            <li>See <a href=\"https://papers.ssrn.com/sol3/papers.cfm?abstract_id=4189239\">The \"Actual Retail Price\" of Equity Trades</a> for more details on the current market microstructure and the practice of <a href=\"https://en.wikipedia.org/wiki/Payment_for_order_flow#cite_note-basics-1\">payment for order flow</a>.</li>\n",
        "            <br>\n",
        "            <li>See <a href=\"https://foster.uw.edu/wp-content/uploads/2022/07/4a-Ernst_Spatt-Payment-for-Order-Flow.pdf\">Payment For Order Flow and Asset Choice</a> for more on PFOF, as well as more information on how brokers use the process of <i>internalization</i> of client orders in both the equities and options markets.</li>\n",
        "            <br>\n",
        "            <li>Also, note that many rules are different depending on the asset class due to the different regulatory framework. Specifically, options trade in a significantly different regulatory framework than U.S. equities.</li>\n",
        "            <br>\n",
        "        </ul>\n",
        "    </ul>\n",
        "</font>"
      ]
    },
    {
      "cell_type": "markdown",
      "id": "1b29066f",
      "metadata": {
        "id": "1b29066f"
      },
      "source": [
        "<hr style=\"border: 20px solid black\">"
      ]
    },
    {
      "cell_type": "markdown",
      "id": "6786c88c",
      "metadata": {
        "id": "6786c88c"
      },
      "source": [
        "<h1>Repeat of Instructions</h1>\n",
        "<br>\n",
        "<font size=\"+1\">\n",
        "    <ul>\n",
        "        <li>The goal of this midterm is to test your mastery of the skills taught in the previous weeks, which culminates in creating simulation models using Python and algorithmic thinking.</li>\n",
        "        <br>\n",
        "        <li>Additionally, it is meant to serve as a case study that you can extend in many directions, if you are interested in doing a personal project.</li>\n",
        "        <br> \n",
        "        <li style=\"color:red\"><b>After completing this Jupyter notebook, submit the <i>.ipynb</i> file on TurnItIn on Blackboard by the deadline. Be sure to refresh the page and double check your submission actually went through.</b></li>\n",
        "        <br>\n",
        "        <li>You are allowed to consult any resources posted online as well as any books or notes, but you <b>cannot</b> ask someone for help or share your solutions with anyone.</li>\n",
        "        <br>\n",
        "        <ul>\n",
        "            <li><b>Any violation of academic integrity will result in a failing grade for everyone involved, please do not do this.</b></li>\n",
        "            <br>\n",
        "        </ul>\n",
        "        <br>\n",
        "        <hr style=\"border:10px solid black\">\n",
        "        <br>\n",
        "        <li style=\"color:black\"><b>Grading:</b> Your grade will be out of $100$ points coming from $5$ questions, each worth $20$ points. There will also be one extra credit problem worth $10$ points.</li>\n",
        "        <br>\n",
        "    </ul>\n",
        "</font>"
      ]
    },
    {
      "cell_type": "markdown",
      "id": "796cd5a7",
      "metadata": {
        "id": "796cd5a7"
      },
      "source": [
        "<hr style=\"border: 20px solid black\">"
      ]
    },
    {
      "cell_type": "markdown",
      "id": "a6c92b69",
      "metadata": {
        "id": "a6c92b69"
      },
      "source": [
        "<h1>Questions</h1>\n",
        "<br>\n",
        "<font size=\"+1\">\n",
        "    <ul>\n",
        "        <li>Please explain your reasoning as coherently and succinctly as you can using Markdown or comments.</li>\n",
        "        <br>\n",
        "        <li>Your grade will be based on two main factors:</li>\n",
        "        <br>\n",
        "        <ul>\n",
        "            <li>correctness of solution, that is, your code should produce what is requested without error,</li>\n",
        "            <br>\n",
        "            <li>and how readable, coherent, and logical your solution is - to help with this use Markdown and comments; imagine you were trying to explain to a friend (a longer explanation does not necessarily mean better).</li>\n",
        "            <br>\n",
        "        </ul>\n",
        "        <li>It helps to write out the problem in your own words or to draw a picture of the problem.</li>\n",
        "        <br>\n",
        "    </ul>\n",
        "</font>"
      ]
    },
    {
      "cell_type": "markdown",
      "id": "39b2465d",
      "metadata": {
        "id": "39b2465d"
      },
      "source": [
        "<h2>Question 1 (20 points) - Fill Probabilities, Expected Fill Time, and Slippage</h2>\n",
        "<br>\n",
        "<font size=\"+1\">\n",
        "    <ul>\n",
        "        <li>Assume traders place <b>limit orders</b> to buy stock at bid price or sell stock at the ask price.</li>\n",
        "        <br>\n",
        "        <ul>\n",
        "            <li>That is, they want to trade at more favorable prices, and so they choose to use a limit order.</li>\n",
        "            <br>\n",
        "            <li>Limit orders can be risky because the order might not get filled, or it can get filled at unfavorable times.</li>\n",
        "        <br>\n",
        "            <li>In other words, limit orders take a random time to be filled, if they ever get filled.</li>\n",
        "            <br>\n",
        "        </ul>\n",
        "        <li>Each time an order is placed, we would like to know how the filled price, that is, the price when filled, differs from some benchmark price, such as the mid-price. This difference between filled prices and benchmark prices is known as <b>implementation shortfall</b> or <b>slippage</b>.</li>\n",
        "        <br>\n",
        "        <li>You are to simulate $10,000$ fill times for limit orders and compute some important measures related to <b>fill times</b> and <b>slippage estimates</b>.</li>\n",
        "        <br>\n",
        "        <ul>\n",
        "            <li>Specifically, assume the behavior of limit orders (that buy at the bid price or sell at the ask price) are the same.</li>\n",
        "            <br>\n",
        "            <li>Further, assume the fill time for limit orders is <a href=\"https://numpy.org/doc/stable/reference/random/generated/numpy.random.Generator.exponential.html\">exponentially distributed</a> with a scale parameter which is also a random number that is <a href=\"https://numpy.org/doc/stable/reference/random/generated/numpy.random.Generator.uniform.html\">uniformly distributed</a> from the interval $[0, 20]$.</li>\n",
        "            <br>\n",
        "            <li>Assume the time it takes to fill a limit order has units in <b>minutes</b>.</li>\n",
        "            <br>\n",
        "            <li>Then, for every limit order, assume the <b>slippage</b> is a random number that depends on the time it takes for the order to be filled.</li>\n",
        "            <br>\n",
        "            <ul>\n",
        "                <li>Specifically, if the time to fill a limit order is longer than $15$ minutes, then the slippage will be normally distributed with a conditional mean of $5$ and standard deviation of $4$.</li>\n",
        "                <br>\n",
        "                <li>If the time to fill a limit order is less than or equal to $15$ minutes, then the slippage will be normally distributed with a conditional mean of $3$ and a standard deviation of $2$.</li>\n",
        "                <br>\n",
        "            </ul>\n",
        "        </ul>\n",
        "        <li>Given you have now simulated $10,000$ numbers representing limit order fill times and limit order slippage estimates (<i>hint: you should convert these lists of numbers into Numpy arrays</i>), you are to compute some important statistics such as:</li>\n",
        "        <br>\n",
        "        <ul>\n",
        "            <li>the average (expected) fill time of the limit orders,</li>\n",
        "            <br>\n",
        "            <li>the average fill time when it takes less than or equal to $15$ minutes for an order to be filled,</li>\n",
        "            <br>\n",
        "            <li>the chance that the limit order fill times are less than or equal to $15$ minutes,</li>\n",
        "            <br>\n",
        "            <li>the average slippage for all limit orders,</li>\n",
        "            <br>\n",
        "            <li>the average slippage when the fill time is less than or equal to $15$ minutes, i.e. when the order gets filled quickly,</li>\n",
        "            <br>\n",
        "            <li>the average slippage when the fill time is greater than $15$ minutes, i.e. when the order takes a longer time to get filled,</li>\n",
        "            <br>\n",
        "            <li>the average slippage when the slippage is less than zero (this is what all brokers are supposed to strive for),</li>\n",
        "            <br>\n",
        "            <li>and finally, the chance that slippage is less than zero.</li>\n",
        "            <br>\n",
        "        </ul>\n",
        "        <li>Before you begin this problem, be sure to import Numpy and initialize the default random number generator with a seed of $42$.</li>\n",
        "        <br>\n",
        "    </ul>\n",
        "</font>"
      ]
    },
    {
      "cell_type": "code",
      "execution_count": null,
      "id": "f0998d58",
      "metadata": {
        "id": "f0998d58"
      },
      "outputs": [],
      "source": [
        "#its probably best to just run the whole file at once, because I split up a lot of code into separate cells\n",
        "\n",
        "#############\n",
        "## imports ##\n",
        "#############\n",
        "\n",
        "import numpy as np\n",
        "import pandas as pd\n",
        "import collections #for named tuples\n",
        "\n",
        "rng = np.random.default_rng(seed = 42) #use numpy to generate a random seed to get random numbers from"
      ]
    },
    {
      "cell_type": "markdown",
      "source": [
        "#I use a class here because it is something I have been learning and thought it would be good practice. The source I learned these topics from is *O'Reilly - Fluent Python*\n",
        "  \n",
        "\n",
        "\n",
        "*   I decide to use a tuple here because we are trying to represent an object that is part of a group of objects (the limit order book) and it \n",
        "*   In this question, I use a tuple to represent a limit order object, and a class to represent the order book\n",
        "*   I will explain any methods or functions I use here that we did not learn in class just to clarify I know what I am doing\n",
        "*   **I only use classes in this first question, because later instructions are more specific**"
      ],
      "metadata": {
        "id": "pqCCM1FaA6Kv"
      },
      "id": "pqCCM1FaA6Kv"
    },
    {
      "cell_type": "code",
      "execution_count": null,
      "id": "1dc834b6",
      "metadata": {
        "id": "1dc834b6"
      },
      "outputs": [],
      "source": [
        "Limit_order = collections.namedtuple('Limit_order', ['fill_time', 'slippage', ]) \n",
        "  #limit_order is a named tuple, which is essentially a bundle of attributes with no custom methods\n",
        "  #These get assigned to the limit order book\n",
        "\n",
        "\n",
        "class limit_order_book_fills:\n",
        "  #A class which creates a list of limit order tuples\n",
        "\n",
        "#first define special methods which help the class operate properly#\n",
        "\n",
        "  def __init__(self, size = 10_000): \n",
        "    #initial constructor. When initialized, calls on code below when ever an instance of the class is created\n",
        "    times = [self.time_to_fill() for i in range(size)]\n",
        "    self._orders = [Limit_order(time, self.slippage(time)) for time in times]\n",
        "  \n",
        "  def __len__(self):\n",
        "    #lets us make our assigned class object act like a pythonic object when using len()\n",
        "    return len(self._orders)\n",
        "\n",
        "  def __getitem__(self, index): \n",
        "    #makes our class support implicit iteration, [], and slicing because getitem delegates to the [] operator of self._orders which is a list of limit_order objects\n",
        "    return self._orders[index]\n",
        "  \n",
        "  #These methods below are only used in __innit__. \n",
        "  def time_to_fill(self): \n",
        "    #uses a scale parameter to select a random number from an exponential distribution\n",
        "    #I decided not to add a required parameter for the method because scale can be calculated within the method itself\n",
        "    scale = np.random.choice(21, 1)\n",
        "    return float(rng.exponential(scale)) #add a float cast here since rng.exponential returns a np array\n",
        "\n",
        "  def slippage(self, time_to_fill): \n",
        "    #random number returned based on a random time to fill\n",
        "    if time_to_fill > 15:\n",
        "      return rng.normal(5, 4)\n",
        "    else:\n",
        "      return rng.normal(3, 2)\n"
      ]
    },
    {
      "cell_type": "code",
      "execution_count": null,
      "id": "773a2d93",
      "metadata": {
        "id": "773a2d93",
        "colab": {
          "base_uri": "https://localhost:8080/"
        },
        "outputId": "2fa08c3c-84bb-47cb-c623-6791e9fb0aae"
      },
      "outputs": [
        {
          "output_type": "stream",
          "name": "stdout",
          "text": [
            "10000\n"
          ]
        }
      ],
      "source": [
        "##################\n",
        "## Testing Code ##\n",
        "##################\n",
        "\n",
        "order_book_test = limit_order_book_fills()\n",
        "len(order_book_test) #showing len functionality\n",
        "order_book_test[2:5] #showing how class supports slicing\n",
        "\n",
        "count = 0 #demonstrating iteration support for class\n",
        "for i in order_book_test:\n",
        "  count += 1\n",
        "  \n",
        "print(count) \n"
      ]
    },
    {
      "cell_type": "code",
      "execution_count": null,
      "id": "843d88ad",
      "metadata": {
        "id": "843d88ad"
      },
      "outputs": [],
      "source": [
        "order_book_simulation = limit_order_book_fills() #assign new instance of class\n",
        "\n",
        "fill_times = np.array([order.fill_time for order in order_book_simulation]) #pull fill times from simulation\n",
        "slippages = np.array([order.slippage for order in order_book_simulation]) #pull slippages from simulation\n",
        "\n",
        "order_book_df = pd.DataFrame({'fill_times':fill_times, 'slippages':slippages}) #create a dataframe of the two numpy arrays\n"
      ]
    },
    {
      "cell_type": "markdown",
      "source": [
        "I realize I could have created the dataframe in the class itself, this just makes more sense to me when thinking of the class truly as only a group of the namedtuple Limit_order"
      ],
      "metadata": {
        "id": "QgYZHUtMU8lG"
      },
      "id": "QgYZHUtMU8lG"
    },
    {
      "cell_type": "code",
      "execution_count": null,
      "id": "4bd85865",
      "metadata": {
        "id": "4bd85865"
      },
      "outputs": [],
      "source": [
        "###############\n",
        "## Questions ##\n",
        "###############\n",
        "\n",
        "#Average fill time of limit orders\n",
        "avg_fill = fill_times.mean()\n",
        "\n",
        "#The average fill time for orders that <= 15 minutes\n",
        "avg_fill_less = fill_times[fill_times <= 15].mean()\n",
        "\n",
        "#The chance that fill times <= 15 minutes\n",
        "chance_fill = len(fill_times[fill_times <= 15]) / len(fill_times)\n",
        "\n",
        "#The average slippage for all limit orders\n",
        "avg_slip = slippages.mean()\n",
        "\n",
        "#The average slippage when fill time <= 15 min\n",
        "slip_less_15 = order_book_df[order_book_df['fill_times'] <= 15].reset_index()\n",
        "avg_slip_less_15 = slip_less_15['slippages'].mean()\n",
        "\n",
        "#The average slippage when fill time is > 15\n",
        "slip_more_15 = order_book_df[order_book_df['fill_times'] > 15].reset_index()\n",
        "avg_slip_greater_15 = slip_more_15['slippages'].mean()\n",
        "\n",
        "#The average slippage when slippage is < 0\n",
        "avg_slip_less_0 = slippages[slippages < 0].mean()\n",
        "\n",
        "#The chance that the slippage < 0\n",
        "chance_slip = len(slippages[slippages < 0]) / len(slippages)\n"
      ]
    },
    {
      "cell_type": "code",
      "source": [
        "print(\"The average fill time is: {}\\n\".format(avg_fill),\n",
        "      \"The average fill time for orders that took <= 15 minutes is: {}\\n\".format(avg_fill_less),\n",
        "      \"The chance that fill times <= 15 minutes is: {}\\n\".format(chance_fill),\n",
        "      \"The average slippage for all limit orders is: {}\\n\".format(avg_slip),\n",
        "      \"The average slippage when fill time is <= than 15 minutes: {}\\n\".format(avg_slip_less_15),\n",
        "      \"The average slippage when fill time is greater than 15 minutes: {}\\n\".format(avg_slip_greater_15),\n",
        "      \"The average slippage when slippage is less than 0: {}\\n\".format(avg_slip_less_0),\n",
        "      \"The chance that the slippage is less than 0: {}\\n\".format(chance_slip))"
      ],
      "metadata": {
        "colab": {
          "base_uri": "https://localhost:8080/"
        },
        "id": "I0iT3dbgPDeN",
        "outputId": "10f6e907-e800-4c09-9250-aa394ee0baac"
      },
      "id": "I0iT3dbgPDeN",
      "execution_count": null,
      "outputs": [
        {
          "output_type": "stream",
          "name": "stdout",
          "text": [
            "The average fill time is: 10.107954415846207\n",
            " The average fill time for orders that took <= 15 minutes is: 4.4959308163402\n",
            " The chance that fill times <= 15 minutes is: 0.7807\n",
            " The average slippage for all limit orders is: 3.397151183530477\n",
            " The average slippage when fill time is <= than 15 minutes: 3.0022018248400753\n",
            " The average slippage when fill time is greater than 15 minutes: 4.803156492830962\n",
            " The average slippage when slippage is less than 0: -1.1738240998417777\n",
            " The chance that the slippage is less than 0: 0.0798\n",
            "\n"
          ]
        }
      ]
    },
    {
      "cell_type": "markdown",
      "id": "a783f743",
      "metadata": {
        "id": "a783f743"
      },
      "source": [
        "<h2>Question 2 (20 points) - Implementation Shortfall</h2>\n",
        "<br>\n",
        "<font size=\"+1\">\n",
        "    <ul>\n",
        "        <li>Consider a simplified trading problem faced by all capital market participants, large and small.</li>\n",
        "        <br>\n",
        "        <li>Assume you want to <b>buy</b> a stock because you believe it is a favorable investment.</li>\n",
        "        <br>\n",
        "        <li>At the time you decide you want to buy the stock, the limit order book has a bid price (i.e. highest price people are willing to buy) of $\\$10$ and an ask price (i.e. the lowest price people are willing to sell) of $\\$12$. In other words, people are willing to buy the stock at $10$ and sell the stock at $12$. The mid-price (by definition is the midpoint between the bid and the ask) is therefore $\\$11$.</li>\n",
        "            <br>\n",
        "        <li>You must choose one of two possible choices:</li>\n",
        "        <br>\n",
        "        <ul>\n",
        "            <li>to transact (buy) now at the ask price using a market order,</li>\n",
        "            <br>\n",
        "            <li>or to place a limit order at the bid price and wait some period of time, say $15$ minutes, to see if your order gets filled,</li>\n",
        "            <br>\n",
        "            <ul>\n",
        "                <li>note that we can assume the order getting filled is a two outcome random variable (i.e. Filled or Not Filled),</li>\n",
        "                <br>\n",
        "                <li>if you placed a limit order and it gets filled in the period you decided to wait ($15$ minutes), then your order will get filled at the current bid price,</li>\n",
        "                <br>\n",
        "                <li>if you placed a limit order and it didn't get filled in the period you decided to wait ($15$ minutes), you will place a market order at the ask price $15$ minutes after you placed your limit order; this is referred to as a <i>clean-up market order</i>.</li>\n",
        "                <br>\n",
        "                <li>After you cancel your limit order and place the clean-up market order, assume the price you pay will be uniformly distributed with a low value of the mid price and a high value of the ask price plus $0.25$ times the time you decide to wait to place a clean-up market order (in this example it will be $0.25 \\times 15$).</li>\n",
        "                <br>\n",
        "                <li>Because prices change (vary) over time, you must take into account the probability of your order being filled if you choose to use a limit order at the bid price, and how the price might change when you use a clean-up market order if your order doesn't get filled.</li>\n",
        "                <br>\n",
        "            </ul>\n",
        "        </ul>\n",
        "        <li>To measure the quality of your decision, you are to compute a metric called the <b>implementation shortfall</b> (i.e. <b>slippage</b>) which we will define as the difference between the price you pay when your order gets filled and the mid-price; slippage depends on the order you decide to use and it is a number we want to be small, in general.</li>\n",
        "        <br>\n",
        "        <li>Depending on the order type, the implementation shortfall will be</li>\n",
        "        <br>\n",
        "        <ul>\n",
        "            <li>in the case of using a current market order, the implementation shortfall will be $P_0^{ask} - P_0^{mid}= \\text{ask price} - \\text{mid price}$, which is $12 - 11$ in the running example,</li>\n",
        "            <br>\n",
        "            <li>in the case of using a limit order at the bid price, you have two cases depending on a random simulation of if your limit order gets filled or not (i.e. a two outcome random variable):</li>\n",
        "            <br>\n",
        "            <ul>\n",
        "                <li>if the order gets filled in the prescribed wait time ($15$ minutes) then the implementation shortfall will be $P_0^{bid} - P_0^{mid}= \\text{bid price} - \\text{mid price}$, which is $10 - 11$ in the running example,</li>\n",
        "                    <br>\n",
        "                <li>if the order does not get filled in the prescribed wait time ($15$ minutes) then the implementation shortfall will be $P_{15}^{ask} - P_0^{mid}= \\text{ask price 15 mins later} - \\text{mid price}$, which is assumed to be $\\text{Uniform}(\\text{low} = \\text{mid price}, \\ \\text{high} = \\text{ask price }+ (0.25)\\text{wait time}) - 11$, where the wait time is $15$ in the running example - hint: rng.uniform(mid_price, ask_price+(0.25*wait_time)) - mid_price.</li>\n",
        "                    <br>\n",
        "            </ul>\n",
        "        </ul>\n",
        "        <li>To get an accurate estimate of shortfall, you should simulate a number of limit order scenarios and estimate the shortfall averaged over all of your simulations.</li>\n",
        "        <br>\n",
        "        <li>For simplicity, you can assume the quantity you want to buy is sufficiently small so that there are no effects of price impact on your optimal order decision. That is, assume the market for your security is sufficiently liquid.</li>\n",
        "        <br>\n",
        "        <li style=\"color:blue\">Write a function called <b>optimal_buy_order</b> with a signature of <br><b>optimal_buy_order(bid_price, ask_price, wait_time, fill_prob_in_wait_time, num_simulations)</b>,<br> that computes the average implementation shortfall (slippage) for your two possible order placement decisions (market order and limit order) and returns the average slippage estimates in a dictionary.</li>\n",
        "        <br>\n",
        "        <li style=\"color:blue\">If you reset the random seed to $42$, you should get the following results:</li>\n",
        "        <br>\n",
        "        <ul style=\"color:blue\">\n",
        "            <li>rng = np.random.default_rng(seed=42)</li>\n",
        "            <br>\n",
        "            <li>optimal_buy_order(bid_price=10, ask_price=12, wait_time=8, fill_prob_in_wait_time=0.2, num_simulations=10_000) <br> $\\longrightarrow$ {'initial_market_order_slippage': 1.0, 'average_limit_order_slippage': 0.9884036474082528}<br></li>\n",
        "            <br>\n",
        "            <li>optimal_buy_order(bid_price=10, ask_price=12, wait_time=4, fill_prob_in_wait_time=0.2, num_simulations=10_000) <br> $\\longrightarrow$ {'initial_market_order_slippage': 1.0, 'average_limit_order_slippage': 0.6058792816131945}<br></li>\n",
        "            <br>\n",
        "            <li>optimal_buy_order(bid_price=10, ask_price=12, wait_time=15, fill_prob_in_wait_time=0.2, num_simulations=10_000) <br> $\\longrightarrow$ {'initial_market_order_slippage': 1.0, 'average_limit_order_slippage': 1.7006321138565643}</li>\n",
        "            <br>\n",
        "        </ul>\n",
        "        <li>Notice how it can be better to use limit orders over market orders if you have smaller wait time.</li>\n",
        "        <br>\n",
        "    </ul>\n",
        "</font>"
      ]
    },
    {
      "cell_type": "code",
      "execution_count": null,
      "id": "45d1e567",
      "metadata": {
        "id": "45d1e567"
      },
      "outputs": [],
      "source": [
        "#initialize segments, or the possibilities for a limit order fill status\n",
        "segments = ['Filled', 'Not Filled']\n",
        "\n",
        "#reset the seed\n",
        "rng = np.random.default_rng(seed=42)"
      ]
    },
    {
      "cell_type": "code",
      "execution_count": null,
      "id": "af379068",
      "metadata": {
        "id": "af379068"
      },
      "outputs": [],
      "source": [
        "def optimal_buy_order(bid_price, ask_price, wait_time, fill_prob_in_wait_time, num_simulations):\n",
        "  #this function returns a dictionary of 2 keys each with one value. The initial market order slippage, and the average limit order slippage\n",
        "    mid_price = np.array([bid_price, ask_price]).mean()\n",
        "    initial_market_order_slippage = ask_price - mid_price\n",
        "    \n",
        "    fill_status = rng.choice(segments, p= [fill_prob_in_wait_time, 1 - fill_prob_in_wait_time], size = num_simulations)\n",
        "      #randomly chooses between filled and not filled with preset probabilities. Will run as many times as requested by user\n",
        "    \n",
        "    slippages = []\n",
        "      #initialize list of simulated slippages which we will take the mean of later\n",
        "\n",
        "    for status in fill_status:\n",
        "      #for each result from the randomly generated fill_status ('Fill' or 'Not Filled')\n",
        "      if status == 'Filled':\n",
        "        #when filled,\n",
        "        fill_price = bid_price\n",
        "      else:\n",
        "        #if not filled,\n",
        "        fill_price = rng.uniform(mid_price, ask_price + 0.25*wait_time) \n",
        "          #simulate the fill price for limit order that became a clean-up market order\n",
        "      slippages.append(fill_price - mid_price)\n",
        "        #append the slippage to list\n",
        "\n",
        "      estimate_dict = dict(initial_market_order_slippage = initial_market_order_slippage, average_limit_order_slippage = np.array(slippages).mean())\n",
        "\n",
        "    return estimate_dict\n",
        "    "
      ]
    },
    {
      "cell_type": "code",
      "execution_count": null,
      "id": "77b20a59",
      "metadata": {
        "id": "77b20a59",
        "colab": {
          "base_uri": "https://localhost:8080/"
        },
        "outputId": "79ac7e79-16a0-453d-9ca5-6b50cbbd0239"
      },
      "outputs": [
        {
          "output_type": "execute_result",
          "data": {
            "text/plain": [
              "{'initial_market_order_slippage': 1.0,\n",
              " 'average_limit_order_slippage': 0.9974534976993996}"
            ]
          },
          "metadata": {},
          "execution_count": 164
        }
      ],
      "source": [
        "\n",
        "optimal_buy_order(bid_price=10, ask_price=12, wait_time=8, fill_prob_in_wait_time=0.2, num_simulations=10_000)\n",
        "#results are slightly different every time, even after resetting the seed but seems close enough to example outputs\n"
      ]
    },
    {
      "cell_type": "code",
      "execution_count": null,
      "id": "b55b8a7e",
      "metadata": {
        "id": "b55b8a7e",
        "colab": {
          "base_uri": "https://localhost:8080/"
        },
        "outputId": "b5544f04-94a1-4c1e-d56a-506ac6183315"
      },
      "outputs": [
        {
          "output_type": "execute_result",
          "data": {
            "text/plain": [
              "{'initial_market_order_slippage': 1.0,\n",
              " 'average_limit_order_slippage': 0.6076600277543854}"
            ]
          },
          "metadata": {},
          "execution_count": 165
        }
      ],
      "source": [
        "optimal_buy_order(bid_price=10, ask_price=12, wait_time=4, fill_prob_in_wait_time=0.2, num_simulations=10_000)\n"
      ]
    },
    {
      "cell_type": "code",
      "execution_count": null,
      "id": "d7906280",
      "metadata": {
        "id": "d7906280",
        "colab": {
          "base_uri": "https://localhost:8080/"
        },
        "outputId": "efd5a791-9fa9-468b-9a39-d8ab50eb9a0b"
      },
      "outputs": [
        {
          "output_type": "execute_result",
          "data": {
            "text/plain": [
              "{'initial_market_order_slippage': 1.0,\n",
              " 'average_limit_order_slippage': 1.6947014727025795}"
            ]
          },
          "metadata": {},
          "execution_count": 166
        }
      ],
      "source": [
        "optimal_buy_order(bid_price=10, ask_price=12, wait_time=15, fill_prob_in_wait_time=0.2, num_simulations=10_000)"
      ]
    },
    {
      "cell_type": "markdown",
      "id": "4e41f98e",
      "metadata": {
        "id": "4e41f98e"
      },
      "source": [
        "<h2>Question 3 (20 points) - Initialize a Limit Order Book</h2>\n",
        "<br>\n",
        "<font size=\"+1\">\n",
        "    <ul>\n",
        "        <li>This question will be related to the remaining questions: 4 and 5.</li>\n",
        "        <br>\n",
        "        <li>You are to write a function that initializes an simplified limit order book.</li>\n",
        "        <br>\n",
        "        <ul>\n",
        "            <li>Assume, for simplicity, that limit order books are only one level deep, that is, there is only one price at which you can buy (called the bid price) and only one price at which you can sell (called the ask price).</li>\n",
        "            <br>\n",
        "            <li>At the bid price, there should be a line (queue) of quantities that represent the number of shares that people want to buy at the bid price.</li>\n",
        "            <br>\n",
        "            <li>At the ask price, there should be a line (queue) of quantities that represent the number of shares that people want to sell at the ask price.</li>\n",
        "            <br>\n",
        "        </ul>\n",
        "        <li>Additionally,using your initialized limit order book, should compute the total liquidity, that is the sum of all the quantities ordered, at the bid price and the ask price.</li>\n",
        "        <br>\n",
        "        <li style=\"color:blue\">You are to write a function called <b>initialize_limit_order_book</b> with a signature of <b>initialize_limit_order_book(bid_price, bid_queue, ask_price, ask_queue)</b> that returns a nested dictionary that lists the buy and sell side prices and ordered quantities. The inner dictionary consist of the price and order queue.</li>\n",
        "        <br>\n",
        "        <li style=\"color:blue\">The function's input variables <b>bid_price</b> and <b>ask_price</b> should be numbers, and the <b>bid_queue</b> and <b>ask_queue</b> should be Numpy arrays.</li>\n",
        "        <br>\n",
        "        <li style=\"color:blue\">All you need to do is put these variables inside a nested dictionary in the right order. A particular example of that order is given below.</li>\n",
        "        <br>\n",
        "        <li style=\"color:blue\">If you reset the random seed to $42$, you should get the following results:</li>\n",
        "        <br>\n",
        "        <ul style=\"color:blue\">\n",
        "            <li>rng = np.random.default_rng(seed=42)</li>\n",
        "            <br>\n",
        "            <li>initialize_limit_order_book(bid_price=10, bid_queue=rng.integers(1, 30, size=7), ask_price=12, ask_queue=rng.integers(1,30, size=10)) <br> $\\longrightarrow$ {'sells': {12: array([21,  6,  3, 16, 29, 22, 23, 21, 23, 15])}, 'buys': {10: array([ 3, 23, 19, 13, 13, 25,  3])}}.<br></li>\n",
        "            <br>\n",
        "            <li>For this function call, the total liquidity at the bid price of $10$ should be $99$ and the total liquidity at the ask price of $12$ should be $179$, this can be computed outside of your function by summing the arrays inside of your dictionary (you can use dictionary slicing and .sum() to compute these numbers).</li>\n",
        "            <br>\n",
        "        </ul>\n",
        "        <li>You can think of the order book as looking something like the following aggregated (top) and disaggregated (bottom) queues (you do <b>not</b> need to generate these graphs):</li>\n",
        "        <br>\n",
        "        <img src=\"Images/LOB_1_level_deep_aggregate_volume.png\" width=\"700\">\n",
        "        <br>\n",
        "        <img src=\"Images/LOB_1_level_deep_disaggregate_volume.png\" width=\"700\">\n",
        "        <br>\n",
        "        <li>These images are stored in the <b>Images</b> sub-folder where this midterm is located on the course Google Drive.</li>\n",
        "        <br>\n",
        "        <li>Note that you can use the Numpy method <a href=\"https://numpy.org/doc/stable/reference/random/generated/numpy.random.Generator.integers.html#numpy.random.Generator.integers\">integers</a> to generate random integers in some range (this is a discrete uniform distribution).</li>\n",
        "        <br>\n",
        "        <li>Don't overthink this problem!</li>\n",
        "        <br>\n",
        "    </ul>\n",
        "</font>"
      ]
    },
    {
      "cell_type": "code",
      "execution_count": null,
      "id": "253e3080",
      "metadata": {
        "id": "253e3080"
      },
      "outputs": [],
      "source": [
        "#reset random seed\n",
        "rng = np.random.default_rng(seed = 42)\n"
      ]
    },
    {
      "cell_type": "code",
      "source": [
        "def initialize_limit_order_book(bid_price, bid_queue, ask_price, ask_queue):\n",
        "  #This function returns a nested dictionary containing both sell and buy limit orders\n",
        "  #Each limit order type contains another dictionary of keys = bid/ask price and values = [a list of quantities of orders at price]\n",
        "  order_book_sells = {ask_price : np.array(ask_queue)}\n",
        "  order_book_buys = {bid_price : np.array(bid_queue)}\n",
        "\n",
        "\n",
        "  return dict(sells = order_book_sells, buys = order_book_buys)\n"
      ],
      "metadata": {
        "id": "CSFynCsG-34m"
      },
      "id": "CSFynCsG-34m",
      "execution_count": null,
      "outputs": []
    },
    {
      "cell_type": "code",
      "execution_count": null,
      "id": "f78b711c",
      "metadata": {
        "id": "f78b711c"
      },
      "outputs": [],
      "source": [
        "limit_order_book = initialize_limit_order_book(bid_price=10, bid_queue=rng.integers(1, 30, size=7), ask_price=12, ask_queue=rng.integers(1,30, size=10))\n",
        "  #call function to variable limit_order_book which is now a nested dictionary"
      ]
    },
    {
      "cell_type": "markdown",
      "source": [
        "Below, rather than directly callling on the buys/sells dictionary with the keys of 10 or 12, I decided to get a list of the keys and loop through. I chose to do it this way so that the code can technically be run on a more realistic order book with multiple bids/asks at different price levels\n",
        "\n",
        "\n",
        "\n",
        "```\n",
        "x = list(limit_order_book['sells'])\n",
        "print(x)\n",
        "```\n",
        "You could run the code above to show how creating a list of the dictionary, only collects the keys\n"
      ],
      "metadata": {
        "id": "nKkYPhvtLz3N"
      },
      "id": "nKkYPhvtLz3N"
    },
    {
      "cell_type": "code",
      "execution_count": null,
      "id": "d80e9a94",
      "metadata": {
        "id": "d80e9a94"
      },
      "outputs": [],
      "source": [
        "sell_keys = list(limit_order_book['sells'])\n",
        "  #create a list of the sells. The list that is returned actually only contains the keys, best to do it this way so you get the full list of keys\n",
        "buy_keys = list(limit_order_book['buys'])\n"
      ]
    },
    {
      "cell_type": "code",
      "execution_count": null,
      "id": "9f7c04f4",
      "metadata": {
        "id": "9f7c04f4"
      },
      "outputs": [],
      "source": [
        "ask_liquidity = 0\n",
        "for price in sell_keys: \n",
        "  #for each key (bid/ask price)\n",
        "  ask_liquidity += limit_order_book['sells'][price].sum()\n",
        "    #add to the liquidity total for asks\n",
        "\n",
        "bid_liquidity = 0\n",
        "for price in buy_keys:\n",
        "  bid_liquidity += limit_order_book['buys'][price].sum()\n"
      ]
    },
    {
      "cell_type": "code",
      "execution_count": null,
      "id": "8659a130",
      "metadata": {
        "id": "8659a130",
        "colab": {
          "base_uri": "https://localhost:8080/"
        },
        "outputId": "b94e7681-c698-4a69-b087-0cef7cb5261e"
      },
      "outputs": [
        {
          "output_type": "stream",
          "name": "stdout",
          "text": [
            "The liquidity for the ask price is 179\n",
            "The liquidity for the bid price is 99\n"
          ]
        }
      ],
      "source": [
        "print(\"The liquidity for the ask price is {}\\nThe liquidity for the bid price is {}\".format(ask_liquidity, bid_liquidity))"
      ]
    },
    {
      "cell_type": "markdown",
      "id": "8c5a49e8",
      "metadata": {
        "id": "8c5a49e8"
      },
      "source": [
        "<h2>Question 4 (20 points) - Order Flow Simulation</h2>\n",
        "<br>\n",
        "<font size=\"+1\">\n",
        "    <ul>\n",
        "        <li>This question is related to question 3 and will be related to question 5.</li>\n",
        "        <br>\n",
        "        <li><b>Order flow</b> refers to new orders being placed in the limit order book, regardless of the order being a limit or market order; so order flow leads to an altered state of the limit order book.</li>\n",
        "        <br>\n",
        "        <li>Assume there are only four possible orders that can enter the market:</li>\n",
        "        <br>\n",
        "        <ul>\n",
        "            <li>\"Market-Bid\", which refers to a market order placed at the bid price (this order would be placed by someone who wants to sell stock now at the bid price),</li>\n",
        "            <br>\n",
        "            <li>\"Market-Ask\", which refers to a market order placed at the ask price (this order would be placed by someone who wants to buy stock now at the ask price),</li>\n",
        "            <br>\n",
        "            <li>\"Limit-Bid\", which refers to a limit order placed at the bid price (this order would be placed by someone who wants to buy at a more favorable price and is willing to wait to achieve that favorable bid price),</li>\n",
        "            <br>\n",
        "            <li>\"Limit-Ask\", which refers to a limit order placed at the ask price (this order would be placed by someone who wants to sell at a more favorable price and is willing to wait to achieve that favorable ask price).</li>\n",
        "            <br>\n",
        "            <li>These four order types can be decomposed into the form: <i style=\"color:blue\">order_type + \"-\" + side_of_market</i>, where order type refers to a limit or a market order and the side of the market refers to the bid price or the ask price.</li>\n",
        "            <br>\n",
        "        </ul>\n",
        "        <li>Incoming orders (i.e. order flow) can be influenced by the current state of the limit order book.</li>\n",
        "        <br>\n",
        "        <ul>\n",
        "            <li>In particular, assume that the particular order being placed is <a href=\"https://finance.zacks.com/can-tell-direction-stock-price-looking-bid-vs-ask-volume-2758.html\">influenced by the <b>total liquidity</b> at the bid price and the ask price</a>, where <b>total liquidity</b> refers to the sum of all the order quantities in the limit order book at the bid price or at the ask price, respectively.</li>\n",
        "            <br>\n",
        "            <li>Specifically, assume the following three scenarios that determine the order flow (i.e. incoming order) - this is going to walk you through how the function should be structured:</li>\n",
        "            <br>\n",
        "            <ul>\n",
        "                <li>if the total liquidity at the bid price is less than the total liquidity at the ask price (this would signal more people want to sell and it is likely that the price will go down), then the order type will be either a market or limit order with a probability of a market order being the (total liquidity at the ask / (sum of the total liquidity at the bid and the ask)) - hint: use rng.choice();</li>\n",
        "                <br>\n",
        "                <ul>\n",
        "                    <li>in this particular scenario ($\\text{total_liquidity_at_bid} < \\text{total_liquidity_at_ask}$), if there is a market order, then the specific order type should be a market-bid since people will sell, otherwise it should be a limit-ask since more people will line up to sell,</li>\n",
        "                    <br>\n",
        "                    <li>once you know the order type all you need is the order quantity, which you can assume is a random integer between $1$ and $15$ - hint: use rng.integers(1,15),</li>\n",
        "                    <br>\n",
        "            </ul>\n",
        "            <li>if the total liquidity at the bid price is greater than the total liquidity at the ask price (this would signal more people want to buy and it is likely that the price will go up), then the order type will be either a market or limit order with a probability of a market order being the (total liquidity at the bid / (sum of the total liquidity at the bid and the ask)) - hint: use rng.choice();</li>\n",
        "            <br>\n",
        "            <ul>\n",
        "                <li>in this particular scenario ($\\text{total_liquidity_at_bid} > \\text{total_liquidity_at_ask}$), if there is a market order, then the specific order type should be a market-ask since people will buy, otherwise it should be a limit-bid since more people will line up to buy,</li>\n",
        "                <br>\n",
        "                <li>once you know the order type all you need is the order quantity, which you can assume is a random integer between $1$ and $15$ - hint: use rng.integers(1,15),</li>\n",
        "                <br>\n",
        "            </ul>\n",
        "            <li>in the final case where the total liquidity at the bid price equals the total liquidity at the ask price (this would not have any signal about if more people want to buy or sell), then the order type will be either a market or limit order with a probability of a market order being $0.5$ (equal chance of being limit or market order) - hint: use rng.choice();</li>\n",
        "                <br>\n",
        "                <ul>\n",
        "                    <li>in this particular scenario ($\\text{total_liquidity_at_bid} == \\text{total_liquidity_at_ask}$), the specific order type can be anything, in which case you should also randomly choose (with equal probabilities) if it is at the bid or ask price,</li>\n",
        "                    <br>\n",
        "                    <li>once you know the order type all you need is the order quantity, which you can assume is a random integer between $1$ and $15$ in all scenarios - hint: use rng.integers(1,15),</li>\n",
        "                    <br>\n",
        "            </ul>\n",
        "        </ul>\n",
        "        <li>After all this logic is written, you should return something of the form $$(\\text{order_type}+\\text{'-'}+\\text{side_of_market}, \\  \\text{rng.integers}(1,15)).$$</li>\n",
        "        <br>\n",
        "        <li style=\"color:blue\">You are to write a function called <b>order_flow</b> with a signature of <b>order_flow(limit_order_book)</b> that returns a two element tuple where the first element is the specific type of order, which can be one of four possbilities: Limit-Bid, Limit-Ask, Market-Bid, Market-Ask, and the second element is quantity to be ordered, which will be assumed to be a randomly generated integer in the range of 1 to 15.</li>\n",
        "        <br>\n",
        "        <li style=\"color:blue\">If you reset the random seed to $42$ and run the following code, you should get the following results:</li>\n",
        "        <br>\n",
        "        <ul style=\"color:blue\">\n",
        "            <li>rng = np.random.default_rng(seed=42)</li>\n",
        "            <br>\n",
        "            <li>initial_LOB = initialize_limit_order_book(bid_price=10, bid_queue=rng.integers(1, 30, size=7), ask_price=12, ask_queue=rng.integers(1,30, size=10)),<br></li>\n",
        "            <br>\n",
        "            <li>order_flow(limit_order_book=initial_LOB) <br> $\\longrightarrow$ ('Market-Bid', 2).<br></li>\n",
        "            <br>\n",
        "        </ul>\n",
        "        <li>Hint: you can think about structuring your code in the following format if you are stuck (this is not the only way to do it):</li>\n",
        "            <br>\n",
        "            <ul>\n",
        "                <li>### Stuff</li>\n",
        "                <br>\n",
        "                <li>if total_liquidity_at_bid < total_liquidity_at_ask: <br> ### Do Stuff</li>\n",
        "                <br>\n",
        "                <ul>\n",
        "                    <li>if order_type == 'Market': <br> ### Do stuff</li>\n",
        "                    <br>\n",
        "                    <li>else: <br> ### Do stuff</li>\n",
        "                    <br>\n",
        "                </ul>\n",
        "                <li>elif total_liquidity_at_bid > total_liquidity_at_ask: <br> ### Do Stuff</li>\n",
        "                <br>\n",
        "                <ul>\n",
        "                    <li>if order_type == 'Market': <br> ### Do stuff</li>\n",
        "                    <br>\n",
        "                    <li>else: <br> ### Do stuff</li>\n",
        "                    <br>\n",
        "                </ul>\n",
        "                <li>else: <br> ### Do Stuff</li>\n",
        "                <br>\n",
        "            </ul>\n",
        "    </ul>\n",
        "</font>"
      ]
    },
    {
      "cell_type": "code",
      "execution_count": null,
      "id": "881a53c7",
      "metadata": {
        "id": "881a53c7"
      },
      "outputs": [],
      "source": [
        "rng = np.random.default_rng(seed=42)\n",
        "\n",
        "initial_LOB = initialize_limit_order_book(bid_price=10, bid_queue=rng.integers(1, 30, size=7), \n",
        "                                          ask_price=12, ask_queue=rng.integers(1,30, size=10))\n",
        "\n",
        "\n"
      ]
    },
    {
      "cell_type": "code",
      "execution_count": null,
      "id": "48cc5c9b",
      "metadata": {
        "id": "48cc5c9b"
      },
      "outputs": [],
      "source": [
        "def order_flow(limit_order_book = initial_LOB):\n",
        "  #This function takes a limit order book and simulates an order based on the current state of \n",
        "  segments = ['Market', 'Limit']\n",
        "  \n",
        "  ask_liquidity, bid_liquidity = calc_liquidity(limit_order_book)\n",
        "    #collect tuple into two variables\n",
        "  if bid_liquidity < ask_liquidity:\n",
        "    #scenario here either leads to a Market-Bid or Limit-Ask\n",
        "    prob = ask_liquidity / (ask_liquidity + bid_liquidity)\n",
        "    order_type1 = rng.choice(segments, p = [prob, 1 - prob])\n",
        "\n",
        "    if order_type1 == 'Market':\n",
        "      order_type2 = 'Bid'\n",
        "    else:\n",
        "      #else order_type1 == 'Limit'\n",
        "      order_type2 = 'Ask'\n",
        "  \n",
        "  elif bid_liquidity>ask_liquidity:\n",
        "    prob = bid_liquidity / (ask_liquidity + bid_liquidity)\n",
        "    order_type1 = rng.choice(segments, p = [prob, 1-prob])\n",
        "\n",
        "    if order_type1 == 'Market':\n",
        "      order_type2 = 'Ask'\n",
        "    else:\n",
        "      order_type2 = 'Bid'\n",
        "  \n",
        "  else:\n",
        "    prob = .50\n",
        "      #even chance when liquidity pool is equal\n",
        "    order_type1 = rng.choice(segments, p= [prob, prob])\n",
        "    order_type2 = rng.choice(['Bid', 'Ask'], p= [prob, prob])\n",
        "\n",
        "  quantity = rng.integers(1,16)\n",
        "\n",
        "  return ('{}-{}'.format(order_type1, order_type2), quantity)\n",
        "\n",
        "def calc_liquidity(limit_order_book):\n",
        "  #this function just calculates the liquidity for ask and bid to compare them. \n",
        "  sell_keys = list(limit_order_book['sells'])\n",
        "    #create a list of the sells. The list that is returned actually only contains the keys\n",
        "  buy_keys = list(limit_order_book['buys'])\n",
        "\n",
        "  ask_liquidity = 0\n",
        "  for price in sell_keys: \n",
        "    #for each key (bid/ask price)\n",
        "    ask_liquidity += limit_order_book['sells'][price].sum()\n",
        "      #add to the liquidity total for asks\n",
        "\n",
        "  bid_liquidity = 0\n",
        "  for price in buy_keys:\n",
        "    bid_liquidity += limit_order_book['buys'][price].sum()\n",
        "\n",
        "  return ask_liquidity, bid_liquidity"
      ]
    },
    {
      "cell_type": "code",
      "execution_count": null,
      "id": "ccafcc09",
      "metadata": {
        "id": "ccafcc09",
        "colab": {
          "base_uri": "https://localhost:8080/"
        },
        "outputId": "75deedab-48d3-4f37-fd85-d43b9e503d30"
      },
      "outputs": [
        {
          "output_type": "execute_result",
          "data": {
            "text/plain": [
              "('Market-Bid', 2)"
            ]
          },
          "metadata": {},
          "execution_count": 175
        }
      ],
      "source": [
        "order_flow(limit_order_book=initial_LOB)"
      ]
    },
    {
      "cell_type": "code",
      "execution_count": null,
      "id": "193c2202",
      "metadata": {
        "id": "193c2202"
      },
      "outputs": [],
      "source": []
    },
    {
      "cell_type": "code",
      "execution_count": null,
      "id": "4d6cc969",
      "metadata": {
        "id": "4d6cc969"
      },
      "outputs": [],
      "source": []
    },
    {
      "cell_type": "markdown",
      "id": "f39244be",
      "metadata": {
        "id": "f39244be"
      },
      "source": [
        "<h2>Question 5 (20 points) - Order Processing and Price-Time Priority Policy</h2>\n",
        "<br>\n",
        "<font size=\"+1\">\n",
        "    <ul>\n",
        "        <li>This question is related to questions 3 and 4.</li>\n",
        "        <br>\n",
        "        <li>Once a new order is placed (i.e. order flow) in the existing limit order book, which is filled with resting limit orders, there will be a new version of the order book that gets updated according to some policy about how orders get filled.</li>\n",
        "        <br>\n",
        "        <li>In most limit order books, the policy for how new orders affect the current state of the limit order book is called the <a href=\"https://www.marketswiki.com/wiki/Price-time_priority#:~:text=The%20principle%20of%20price%2Ftime,on%20when%20they%20were%20entered.\">price-time priority</a> rule/algorithm/policy.</li>\n",
        "        <br>\n",
        "        <li>The price-time priority policy simply says that orders are filled according to the best price first, and then if there are multiple orders at the best price (i.e. at the bid or ask price) then the orders that get filled first will be the orders that arrived first. In other words, the policy first ranks orders according to the price and the according to their arrival time.</li>\n",
        "        <br>\n",
        "        <li>In the simplified setting of only having a limit order book with a bid and ask price and the only possble orders being {'Limit-Bid', 'Limit-Ask', 'Market-Bid', 'Market-Ask'}, the limit order book can only change in four different ways for a particular order quantity:</li>\n",
        "        <br>\n",
        "        <ul>\n",
        "            <li>if the order type is a 'Limit-Bid', then that means a buyer wants to get in line to buy at the bid price, which means the queue at the bid would be appended by the particular order quantity,</li>\n",
        "            <br>\n",
        "            <li>if the order type is a 'Limit-Ask', then that means a seller wants to get in line to sell at the ask price, which means the queue at the ask would be appended by the particular order quantity,</li>\n",
        "            <br>\n",
        "            <li>if the order type is a 'Market-Bid', then that means a seller wants to sell at the bid price immediately, which means (according to the price-time priority policy) that the orders that arrived first (i.e. at the top of the list of orders for the bid price) should be removed (filled) first,</li>\n",
        "            <br>\n",
        "            <li>if the order type is a 'Market-Ask', then that means a buyer wants to buy at the ask price immediately, which means (according to the price-time priority policy) that the orders that arrived first (i.e. at the top of the list of orders for the ask price) should be removed (filled) first.</li>\n",
        "            <br>\n",
        "            <li>In the event of a market order that removes orders at the top of the queue, be aware of the possibility that if the order size is $10$ and the queue is $[3, 4, 2, 8, 5, \\dots]$, then the first three orders would be removed completely and one quantity of the fourth order would be removed as well to produce a new queue $[7, 5, \\dots]$.</li>\n",
        "            <br>\n",
        "        </ul>\n",
        "        <li style=\"color:blue\">You are to write a function called <b>update_limit_order_book_by_price_time_priority_policy</b> with a signature of <b>update_limit_order_book_by_price_time_priority_policy(current_LOB, order_flow)</b> that returns a nested dictionary representing an updated limit order book that has just processed the orders coming from order_flow.</li>\n",
        "        <br>\n",
        "        <li style=\"color:blue\">If you reset the random seed to $42$, you should get the following results:</li>\n",
        "        <br>\n",
        "        <ul style=\"color:blue\">\n",
        "            <li>rng = np.random.default_rng(seed=42)</li>\n",
        "            <br>\n",
        "            <li>initial_LOB = initialize_limit_order_book(bid_price=10, bid_queue=rng.integers(1, 30, size=7), ask_price=12, ask_queue=rng.integers(1,30, size=10))<br> $\\longrightarrow$ <br> initial_LOB $\\longrightarrow$ {'sells': {12: array([21,  6,  3, 16, 29, 22, 23, 21, 23, 15])}, 'buys': {10: array([ <b style=\"color:red\">3</b>, 23, 19, 13, 13, 25,  3])}}<br></li>\n",
        "            <br>\n",
        "            <li>order_flow_after_initial_LOB = order_flow(limit_order_book=initial_LOB) <br> $\\longrightarrow$ <br> order_flow_after_initial_LOB $\\longrightarrow$  ('Market-Bid', <b style=\"color:red\">2</b>).<br></li>\n",
        "            <br>\n",
        "            <li>update_limit_order_book_by_price_time_priority_policy(current_LOB=initial_LOB, order_flow=order_flow_after_initial_LOB) <br> $\\longrightarrow$ <br> {'sells': {12: array([21,  6,  3, 16, 29, 22, 23, 21, 23, 15])}, 'buys': {10: array([ <b style=\"color:red\">1</b>, 23, 19, 13, 13, 25,  3])}}<br> </li>\n",
        "            <br>\n",
        "            <li>Notice that the order flow represents a seller placing a market order at the bid price with a quantity of two, and then the order book is updated by the policy of price-time priority, which removes two units from the first order in the buy side of order book (which was originally 3).</li>\n",
        "            <br>\n",
        "        </ul>\n",
        "        <li>It could be helpful, not necessary, to write a helper function <b>price_time_priority_policy</b> with signature <b>price_time_priority_policy(queue, order_quantity)</b> that returns a new queue representing an updated list of order requests, which is updated by the price-time priority policy.</li>\n",
        "        <br>\n",
        "        <ul>\n",
        "            <li>I have included my implementation (many different ways to do this, so please ignore if it is not helpful) of my price-time priority policy helper function below, which you may use in your code if it helps you.</li>\n",
        "            <br>\n",
        "            <li style=\"color:red\">It is advised that you try to solve the problem on your own first since using other people's code is very difficult when you haven't figured out the logic of the problem, which you will only figure out if you attempt to do it yourself first.</li>\n",
        "            <br>\n",
        "        </ul>\n",
        "        <li>Note there is a way to <a href=\"https://numpy.org/doc/stable/reference/generated/numpy.append.html\">append to a Numpy array</a>, rather than appending to a list. The effect is the same, but the syntax is different; see the hyperlink.</li>\n",
        "        <br>\n",
        "    </ul>\n",
        "</font>"
      ]
    },
    {
      "cell_type": "code",
      "execution_count": null,
      "id": "01486bb9",
      "metadata": {
        "id": "01486bb9"
      },
      "outputs": [],
      "source": [
        "rng = np.random.default_rng(seed=42)\n",
        "\n",
        "def price_time_priority_policy(queue, order_quantity):\n",
        "  #This function was created by the professor\n",
        "  #What this function does is takes the queue and makes it a cumulative sum queue\n",
        "  #meaning that [1,2,3] becomes [1,3,6]\n",
        "    queue_cumsum = queue.cumsum()\n",
        "    \n",
        "    # tells you how many orders deep in the queue you have to go to get the order filled\n",
        "    # depth_of_queue_to_get_order_filled\n",
        "    fill_depth = np.argmax(order_quantity < queue_cumsum)\n",
        "      #following example from before, if cumsum is [1,3,6] and quantity is 3\n",
        "      #(5 < array[1,3,6]) = (array[False, True, True])\n",
        "      #np.argmax() returns the index of the first instance of the max value, which between true and false is true\n",
        "    \n",
        "    queue[fill_depth] = queue_cumsum[fill_depth] - order_quantity\n",
        "      #index of the queue from argmax = the values of the cumulative at that index minus the quantity\n",
        "    \n",
        "    new_queue = queue[fill_depth:]\n",
        "      #only include values after where they were filled, the ones before got filled and are not included now\n",
        "    return new_queue"
      ]
    },
    {
      "cell_type": "code",
      "execution_count": null,
      "id": "e0e6c2b8",
      "metadata": {
        "id": "e0e6c2b8"
      },
      "outputs": [],
      "source": [
        "def update_limit_order_book_by_price_time_priority_policy(current_LOB, order_flow):\n",
        "  order_quantity = order_flow[1]\n",
        "  ask_prices = list(current_LOB['sells'])\n",
        "  bid_prices = list(current_LOB['buys'])\n",
        "    #list grabs just the keys\n",
        " \n",
        "  #below I have to collect the price from the order book because\n",
        "    #1. I haven't built it out yet to take in any price as well (to follow directions)\n",
        "    #2. I want to have useable code for when I expand the model to accept many price points in the extra credit\n",
        "    #3. The ask_price here is jsut the price that the order came in with, but here there is only one option and no parameter for bid/ask price here\n",
        "  ask_price = ask_prices[0]\n",
        "  bid_price = bid_prices[0]\n",
        "  \n",
        "  ask_queue = current_LOB['sells'][ask_price]\n",
        "  bid_queue = current_LOB['buys'][bid_price]\n",
        "    #the ask queue is set equal to the list in the sells or buys key in the dictionary for the given price\n",
        "\n",
        "#if i wanted to scale this to accept more buy types, I would probably do a parse on the order_flow and split it into fewer if statements\n",
        "  #but idk how to parse strings yet\n",
        "  if order_flow[0] == 'Market-Bid':\n",
        "    bid_queue = price_time_priority_policy(bid_queue, order_quantity)\n",
        "      #Use function to get the updated queue in a market order\n",
        "  elif order_flow[0] == 'Market-Ask':\n",
        "    ask_queue = price_time_priority_policy(ask_queue, order_quantity)\n",
        "  elif order_flow[0] == 'Limit-Bid':\n",
        "    bid_queue = np.array(bid_queue.append(order_quantity))\n",
        "      #append to the queue for a new limit order being added at end of queue\n",
        "  else:\n",
        "    ask_queue = np.array(ask_queue.append(order_quantity))\n",
        "  \n",
        "  ask_dict = {}\n",
        "  bid_dict = {}\n",
        "\n",
        "  ask_dict[ask_price] = ask_queue\n",
        "  bid_dict[bid_price] = bid_queue\n",
        "\n",
        "  return dict(sells = ask_dict, buys = bid_dict)\n",
        "\n"
      ]
    },
    {
      "cell_type": "code",
      "execution_count": null,
      "id": "fb06deb7",
      "metadata": {
        "id": "fb06deb7",
        "colab": {
          "base_uri": "https://localhost:8080/"
        },
        "outputId": "88a4d9d5-e15c-4dc5-90aa-1cb57d2cd824"
      },
      "outputs": [
        {
          "output_type": "execute_result",
          "data": {
            "text/plain": [
              "{'sells': {12: array([21,  6,  3, 16, 29, 22, 23, 21, 23, 15])},\n",
              " 'buys': {10: array([ 1, 23, 19, 13, 13, 25,  3])}}"
            ]
          },
          "metadata": {},
          "execution_count": 178
        }
      ],
      "source": [
        "initial_LOB = initialize_limit_order_book(bid_price=10, bid_queue=rng.integers(1, 30, size=7), ask_price=12, ask_queue=rng.integers(1,30, size=10))\n",
        "order_flow_after_initial_LOB = order_flow(limit_order_book=initial_LOB)\n",
        "update_limit_order_book_by_price_time_priority_policy(current_LOB=initial_LOB, order_flow=order_flow_after_initial_LOB)\n",
        "\n",
        "#if you are going to run this after running the extra credit please run the whole question again since functions get redefined"
      ]
    },
    {
      "cell_type": "code",
      "execution_count": null,
      "id": "c6e94d75",
      "metadata": {
        "id": "c6e94d75"
      },
      "outputs": [],
      "source": []
    },
    {
      "cell_type": "code",
      "execution_count": null,
      "id": "de3edd39",
      "metadata": {
        "id": "de3edd39"
      },
      "outputs": [],
      "source": []
    },
    {
      "cell_type": "code",
      "execution_count": null,
      "id": "381e80de",
      "metadata": {
        "id": "381e80de"
      },
      "outputs": [],
      "source": []
    },
    {
      "cell_type": "code",
      "source": [],
      "metadata": {
        "id": "pBscf2D-xuGc"
      },
      "id": "pBscf2D-xuGc",
      "execution_count": null,
      "outputs": []
    },
    {
      "cell_type": "code",
      "source": [],
      "metadata": {
        "id": "LVE-huOrx0VD"
      },
      "id": "LVE-huOrx0VD",
      "execution_count": null,
      "outputs": []
    },
    {
      "cell_type": "markdown",
      "id": "d5672648",
      "metadata": {
        "id": "d5672648"
      },
      "source": [
        "<h2>Extra Credit (10 points)</h2>\n",
        "<br>\n",
        "<font size=\"+1\">\n",
        "    <ul>\n",
        "        <li>This is intentionally vague and open-ended and will be judged by the level of effort, extension of the previous problems, and correctness.</li>\n",
        "        <br>\n",
        "        <li>Reflect on the previous exercises that you have completed:</li>\n",
        "        <br>\n",
        "        <ul>\n",
        "            <li>How would you make this problem more realistic?</li>\n",
        "            <br>\n",
        "            <li>How would you <i>scale-up</i> this simulation in a more realistic environment?</li>\n",
        "            <br>\n",
        "            <li>What areas of business might it be useful for, especially regarding the designing of products or services?</li>\n",
        "            <br>\n",
        "            <li>How might this simple setting change if you included other, more complex or exotic, order types such as hidden orders or iceberg orders?</li>\n",
        "            <br>\n",
        "            <li>What if there were different policy matching mechanisms other than price-time priority, such as pro-rata rationing or auction mechanisms?</li>\n",
        "            <br>\n",
        "            <li>How would you make more realistic time constraints on orders?</li>\n",
        "            <br>\n",
        "        </ul>\n",
        "        <li>Describe something you would change from the above problems that would make the simulation more realistic (take this as a chance to be creative), and then implement your idea.</li>\n",
        "        <br>\n",
        "        <li>Can you make the simulation from questions 3, 4, and 5 dynamic? That is, instead of a single update to the limit order book, could you allow your order book to change over multiple periods? If so, implement it.</li>\n",
        "        <br>\n",
        "    </ul>\n",
        "</font>"
      ]
    },
    {
      "cell_type": "markdown",
      "source": [
        "What I did in this extra credit:\n",
        "\n",
        "\n",
        "*   I rewrote the methods to run together in a way that allows a collection of order queues at different prices\n",
        "*   Market orders will take from the min or max of the asks or bids\n",
        "*   I changed the initialize_limit_order_book method to create an order book of prices and quantities based on a normal distribution\n",
        "*   i changed the update limit order method to also take in a price parameter to know which price in the nested dictionary to update\n",
        "*   The simulation can be run with different variables to create deeper or more dispersed order books as well. The simulation also simulates a number of new orders coming in, and reports how liquidity changed from them\n",
        "\n"
      ],
      "metadata": {
        "id": "gKwi5o1jdiH4"
      },
      "id": "gKwi5o1jdiH4"
    },
    {
      "cell_type": "code",
      "execution_count": null,
      "id": "42705036",
      "metadata": {
        "id": "42705036"
      },
      "outputs": [],
      "source": [
        "#in this version of the method I just wanted to simulate some other queues at different prices.\n",
        "#I used a medium article to find the general distributions of limit order books -> https://medium.com/coinmonks/liquidity-and-order-book-distribution-908e4ebd9173\n",
        "#seems similar to a normal distribution so I decided to use that\n",
        "rng = np.random.default_rng(seed=99)\n",
        "\n",
        "def initialize_limit_order_book(mid_price, std, num_simulation):\n",
        "  prices = rng.normal(mid_price, std, num_simulation)\n",
        "  #This function returns a nested dictionary containing both sell and buy limit orders\n",
        "  #Each limit order type contains another dictionary of keys = bid/ask price and values = [a list of quantities of orders at price]  \n",
        "  #for simplicity we remove the values from mid_price, after rounding everything to the nearest integer\n",
        "  prices = [round(price, 0) for price in list(prices)]\n",
        "\n",
        "  prices = [price for price in prices if price != mid_price]\n",
        "\n",
        "  dict_count_of_prices = {}\n",
        "  order_dict = {}\n",
        "\n",
        "  for price in prices:\n",
        "    #get the quantity of orders at each price that was generated\n",
        "      if price in dict_count_of_prices:\n",
        "          dict_count_of_prices[price] += 1\n",
        "      else:\n",
        "          dict_count_of_prices[price] = 1\n",
        "\n",
        "  for price, tot_quantity in dict_count_of_prices.items():\n",
        "    #This for loop basically creates a queue based on the total quantity, once the threshold is passed, the queue is complete\n",
        "    queue_bool = [False]\n",
        "    queue = []\n",
        "    sim_quantity = rng.integers(1, 30)\n",
        "    queue.append(sim_quantity)\n",
        "    queue_cumsum = np.array(queue).cumsum()\n",
        "    while queue_cumsum[-1] < tot_quantity:\n",
        "      sim_quantity = rng.integers(1, 30)\n",
        "      queue.append(sim_quantity)\n",
        "      queue_cumsum = np.array(queue).cumsum()      \n",
        "        #this will deviate from the total quantities determined, I think it probably adds some deviation or randomness we are likely to see in a real order book\n",
        "          #this deviates because if the integer randomly chosen makes the cumulative sum over the original quantity, the whole value is still included\n",
        "    \n",
        "    order_dict[price] = np.array(queue)\n",
        "  \n",
        "  limit_order_book = {}\n",
        "  limit_order_book['sells'] = {}\n",
        "  limit_order_book['buys'] = {}\n",
        "\n",
        "  for price in order_dict:\n",
        "    #For the chosen price, determine whether or not it would be a buy or sell based on the relative position to the mid_price\n",
        "    if price < mid_price:\n",
        "      limit_order_book['buys'][price] = order_dict[price]\n",
        "    else:\n",
        "      limit_order_book['sells'][price] = order_dict[price]\n",
        "\n",
        "  return limit_order_book\n",
        "\n",
        "\n",
        "def order_flow(limit_order_book):\n",
        "  #This function takes a limit order book and simulates an order based on the current state of liquidity\n",
        "  #I kept this the same from the original question\n",
        "  segments = ['Market', 'Limit']\n",
        "  \n",
        "  ask_liquidity, bid_liquidity = calc_liquidity(limit_order_book)\n",
        "    #collect tuple into two variables\n",
        "  if bid_liquidity < ask_liquidity:\n",
        "    #scenario here either leads to a Market-Bid or Limit-Ask\n",
        "    prob = ask_liquidity / (ask_liquidity + bid_liquidity)\n",
        "\n",
        "    order_type1 = rng.choice(segments, p = [prob, 1 - prob])\n",
        "\n",
        "    if order_type1 == 'Market':\n",
        "      order_type2 = 'Bid'\n",
        "    else:\n",
        "      #else order_type1 == 'Limit'\n",
        "      order_type2 = 'Ask'\n",
        "  \n",
        "  elif bid_liquidity>ask_liquidity:\n",
        "    prob = bid_liquidity / (ask_liquidity + bid_liquidity)\n",
        "    order_type1 = rng.choice(segments, p = [prob, 1-prob])\n",
        "\n",
        "    if order_type1 == 'Market':\n",
        "      order_type2 = 'Ask'\n",
        "    else:\n",
        "      order_type2 = 'Bid'\n",
        "  \n",
        "  else:\n",
        "    prob = .50\n",
        "      #even chance when liquidity pool is equal\n",
        "    order_type1 = rng.choice(segments, p= [prob, prob])\n",
        "    order_type2 = rng.choice(['Bid', 'Ask'], p= [prob, prob])\n",
        "\n",
        "  quantity = rng.integers(1,16)\n",
        "\n",
        "  return ('{}-{}'.format(order_type1, order_type2), quantity)\n",
        "\n",
        "def calc_liquidity(limit_order_book):\n",
        "  #this function just calculates the liquidity for ask and bid to compare them. \n",
        "  sell_keys = list(limit_order_book['sells'])\n",
        "    #create a list of the sells. The list that is returned actually only contains the keys\n",
        "  buy_keys = list(limit_order_book['buys'])\n",
        "\n",
        "  ask_liquidity = 0\n",
        "  for price in sell_keys: \n",
        "    #for each key (bid/ask price)\n",
        "    ask_liquidity += limit_order_book['sells'][price].sum()\n",
        "      #add to the liquidity total for asks\n",
        "\n",
        "  bid_liquidity = 0\n",
        "  for price in buy_keys:\n",
        "    bid_liquidity += limit_order_book['buys'][price].sum()\n",
        "\n",
        "  return ask_liquidity, bid_liquidity"
      ]
    },
    {
      "cell_type": "code",
      "execution_count": null,
      "id": "5001ea40",
      "metadata": {
        "id": "5001ea40"
      },
      "outputs": [],
      "source": [
        "\n",
        "def price_time_priority_policy(queue, order_quantity):\n",
        "  #This function was created by the professor\n",
        "  #What this function does is takes the queue and makes it a cumulative sum queue\n",
        "  #meaning that [1,2,3] becomes [1,3,6]\n",
        "    queue_cumsum = queue.cumsum()\n",
        "    \n",
        "    # tells you how many orders deep in the queue you have to go to get the order filled\n",
        "    # depth_of_queue_to_get_order_filled\n",
        "    fill_depth = np.argmax(order_quantity < queue_cumsum)\n",
        "      #following example from before, if cumsum is [1,3,6] and quantity is 3\n",
        "      #(5 < array[1,3,6]) = (array[False, True, True])\n",
        "      #np.argmax() returns the index of the first instance of the max value, which between true and false is true\n",
        "    \n",
        "    queue[fill_depth] = queue_cumsum[fill_depth] - order_quantity\n",
        "      #index of the queue from argmax = the values of the cumulative at that index minus the quantity\n",
        "    \n",
        "    new_queue = queue[fill_depth:]\n",
        "      #only include values after where they were filled, the ones before got filled and are not included now\n",
        "    return new_queue\n",
        "  \n",
        "\n",
        "def update_limit_order_book_by_price_time_priority_policy(current_LOB, order_flow, price):\n",
        "  #this has been updated to accept a price parameter, updating the order book based on the given price as well as the order type\n",
        "  order_quantity = order_flow[1]\n",
        "\n",
        "  ask_dict = current_LOB['sells']\n",
        "  bid_dict = current_LOB['buys']\n",
        "\n",
        "\n",
        "#if i wanted to scale this to accept more buy types, I would probably do a parse on the order_flow and split it into fewer if statements\n",
        "  #but idk how to parse strings yet\n",
        "  if order_flow[0] == 'Market-Bid':\n",
        "    old_bid_queue = bid_dict[price]\n",
        "    bid_queue = price_time_priority_policy(old_bid_queue, order_quantity)\n",
        "    bid_dict[price] = bid_queue\n",
        "      #Use function to get the updated queue in a market order\n",
        "  elif order_flow[0] == 'Market-Ask':\n",
        "    old_ask_queue = ask_dict[price]\n",
        "    ask_queue = price_time_priority_policy(old_ask_queue, order_quantity)\n",
        "    ask_dict[price] = ask_queue\n",
        "  elif order_flow[0] == 'Limit-Bid':\n",
        "    old_bid_queue = bid_dict[price]\n",
        "    bid_queue = np.append(old_bid_queue,order_quantity)\n",
        "    bid_dict[price] = bid_queue\n",
        "      #append to the queue for a new limit order being added at end of queue\n",
        "  else:\n",
        "    old_ask_queue = ask_dict[price]\n",
        "    ask_queue = np.append(old_ask_queue, order_quantity)\n",
        "    ask_dict[price] = ask_queue\n",
        "\n",
        "  return dict(sells = ask_dict, buys = bid_dict)\n",
        "\n",
        "def simulator(mid_price= 11, std= 1.5, simulations= 10_000):\n",
        "  order_book = initialize_limit_order_book(mid_price, std, simulations)\n",
        "  ask_liquidity, bid_liquidity = calc_liquidity(order_book)\n",
        "  print(\"ask liquidity = {}, buy liquidity = {}\".format(ask_liquidity, bid_liquidity))\n",
        "\n",
        "  for x in range(int(simulations/1000)):\n",
        "    #number of order_flow simulations\n",
        "    order_flow_new = order_flow(order_book)\n",
        "    order_keys_ask = list(order_book['sells'].keys())\n",
        "    order_keys_bid = list(order_book['buys'].keys())\n",
        "\n",
        "    if order_flow_new[0] == 'Market-Bid':\n",
        "      price = max(order_keys_bid)\n",
        "    elif order_flow_new[0] == 'Market-Ask':\n",
        "      price = min(order_keys_ask)\n",
        "    elif order_flow_new[0] == 'Limit-Bid':\n",
        "      price = rng.choice(order_keys_bid)\n",
        "        #append to the queue for a new limit order being added at end of queue\n",
        "    else:\n",
        "      price = rng.choice(order_keys_ask)\n",
        "\n",
        "      #randomly generate the price we want to change\n",
        "    order_book = update_limit_order_book_by_price_time_priority_policy(current_LOB= order_book, order_flow= order_flow_new, price= price)\n",
        "  \n",
        "  ask_liquidity, bid_liquidity = calc_liquidity(order_book)\n",
        "  print(\"Post order simulations, liquidity is now: ask liquidity = {}, buy liquidity = {}\".format(ask_liquidity, bid_liquidity))\n",
        "\n",
        "  return order_book"
      ]
    },
    {
      "cell_type": "markdown",
      "source": [
        "The main issue with my simulator, which you can run below, is that it can only run a limited amount of times. Which is why I divide the number of simulations by 1,000. \n",
        "\n",
        "The reason for this is that the way order_flow logic works now, is that if there are more buyers in the liquidity pool, the order flow method will only add new buy orders, eventually buying out all of the seller. \n",
        "\n",
        "Either this could be fixed by taking into account the imbalance of liquidity when deciding if a new order is a buyer or seller, or making the status of buyer or seller completely random as well."
      ],
      "metadata": {
        "id": "_ed87dGMctcC"
      },
      "id": "_ed87dGMctcC"
    },
    {
      "cell_type": "code",
      "execution_count": null,
      "id": "c87b47e1",
      "metadata": {
        "id": "c87b47e1",
        "colab": {
          "base_uri": "https://localhost:8080/"
        },
        "outputId": "1270fe1c-ed4f-4d3b-e1a5-59acb2390172"
      },
      "outputs": [
        {
          "output_type": "stream",
          "name": "stdout",
          "text": [
            "ask liquidity = 3748, buy liquidity = 3755\n",
            "Post order simulations, liquidity is now: ask liquidity = 3682, buy liquidity = 3773\n"
          ]
        },
        {
          "output_type": "execute_result",
          "data": {
            "text/plain": [
              "{'sells': {12.0: array([21, 14, 18, 22, 17, 22, 26, 28, 12, 22, 16,  6, 28,  6, 29, 21,  7,\n",
              "         28, 20,  3,  5, 23,  2, 10, 13, 20, 24, 20, 26, 15, 13,  2, 12, 20,\n",
              "          8, 10,  6, 14, 24, 29, 20, 12, 16, 26, 14,  1, 17,  7, 24,  1, 28,\n",
              "         12,  7,  5, 26, 12,  4, 25, 13, 29, 20,  6,  5, 20, 19,  7,  3, 28,\n",
              "         18,  9,  8, 29, 22, 10, 20, 11,  2, 15,  6,  3,  3,  4, 13, 26, 21,\n",
              "         13,  7,  9, 21, 27, 20, 29, 20, 21, 28, 11,  4,  2, 29, 19, 10, 26,\n",
              "          7, 17,  3, 24, 25, 16, 15,  2, 17, 16,  6, 18, 11, 24, 11, 24, 26,\n",
              "          1, 20, 10, 26, 22, 16,  6, 16,  9,  9, 18,  7, 13, 23]),\n",
              "  14.0: array([18, 18, 14,  1, 25,  5, 13,  7, 14,  9,  9,  2, 10, 15, 24, 15, 19,\n",
              "         10, 27, 18,  7,  3,  1,  5,  2, 26, 19, 14, 18, 29]),\n",
              "  13.0: array([22,  9, 22, 24, 21, 26, 17, 22, 22, 26,  5, 25,  2, 14, 29,  2, 19,\n",
              "         20, 27, 18, 19, 28, 25, 15,  3,  7, 19, 24,  4, 21, 21, 25, 28, 23,\n",
              "         28,  7,  4,  9, 23,  3,  3, 27, 15, 27, 11, 20, 11,  5, 23, 26, 29,\n",
              "          6, 11, 17, 25, 25, 21, 17, 20, 18,  8, 23, 29,  3, 27]),\n",
              "  15.0: array([13, 29,  5, 14,  5, 12]),\n",
              "  16.0: array([9])},\n",
              " 'buys': {10.0: array([23, 11, 11, 11, 29,  5,  3, 20, 25,  5,  1,  3, 18, 17, 17, 17, 20,\n",
              "         21, 23, 24,  9,  7, 27,  5, 15, 23, 16, 27, 15, 12, 12, 13,  5,  5,\n",
              "         17, 25,  2, 13, 22, 11, 22, 28,  5,  4, 11,  1, 18,  8, 20, 11, 10,\n",
              "         15, 29, 23, 18,  8, 24, 18, 13, 16, 29,  7, 11, 14, 29, 11, 22, 16,\n",
              "         12, 26, 18,  1,  1,  9, 19, 12, 12, 12,  7,  8, 16, 16,  8, 22, 28,\n",
              "          3, 17,  6, 21, 26, 29, 27, 20, 21, 17, 13,  6, 26, 21, 21, 10, 21,\n",
              "         14, 22, 23, 14, 26, 16, 26,  2,  2, 14, 10,  6, 14, 11, 22,  1,  5,\n",
              "          2, 21, 24, 10,  8, 14, 20, 24, 27, 14, 16,  3, 29, 13,  1, 26, 20,\n",
              "          7,  2, 16, 27]),\n",
              "  8.0: array([ 6,  9,  7,  1,  8,  9, 10, 12, 14, 17, 21,  4, 11, 26, 16,  1, 27,\n",
              "         29, 20, 13, 28, 15, 28, 12,  4,  2,  7,  2, 21, 13]),\n",
              "  9.0: array([22,  6,  3,  1, 20,  3,  5, 11, 23, 23, 21,  5,  8, 13,  8, 16,  8,\n",
              "         15, 26, 29, 21,  7,  4, 15, 27, 16, 26, 15, 10, 10, 26, 27, 28,  9,\n",
              "         28, 24, 10, 21, 28, 23, 22,  9, 20, 26, 17, 15, 18, 17, 12, 29, 14,\n",
              "          8,  3, 26,  8, 28, 29, 16, 18, 14,  2, 28, 15,  2, 13, 20, 29, 28]),\n",
              "  7.0: array([21, 12,  4,  3, 12,  5, 29,  9]),\n",
              "  6.0: array([ 5,  5, 29,  9])}}"
            ]
          },
          "metadata": {},
          "execution_count": 181
        }
      ],
      "source": [
        "simulator()"
      ]
    },
    {
      "cell_type": "markdown",
      "source": [],
      "metadata": {
        "id": "TZVrc6wmcsyk"
      },
      "id": "TZVrc6wmcsyk"
    },
    {
      "cell_type": "code",
      "execution_count": null,
      "id": "fdc9953f",
      "metadata": {
        "id": "fdc9953f"
      },
      "outputs": [],
      "source": []
    },
    {
      "cell_type": "code",
      "execution_count": null,
      "id": "e589065e",
      "metadata": {
        "id": "e589065e"
      },
      "outputs": [],
      "source": []
    },
    {
      "cell_type": "markdown",
      "id": "f54d3fdd",
      "metadata": {
        "id": "f54d3fdd"
      },
      "source": [
        "<h1>Extensions (If Interested, Not Required)</h1>\n",
        "<br>\n",
        "<font size=\"+1\">\n",
        "    <ul>\n",
        "        <li>This is an example of a type of very real problem that has many questions that need to be answered for many different businesses.</li>\n",
        "        <br>\n",
        "        <li>If one is interested, this topic could be extended into a comprehensive project that is presentable to future employers.</li>\n",
        "        <br>\n",
        "        <li>Specifically, there are many questions (that have and haven't been addressed in this exam) that require the full spectrum of analytics (descriptive, predictive, and prescriptive) to sufficiently answer. (This is good news!)</li>\n",
        "        <br>\n",
        "        <li>For limit order book information on various exchanges, one can access data from many venues including:</li>\n",
        "        <br>\n",
        "        <ul>\n",
        "            <li>IEX, which is one exchange that offers their <a href=\"https://iextrading.com/trading/market-data/#hist-download\">historical data</a> and <a href=\"https://exchange.iex.io/products/market-data-connectivity/\">live data feeds</a> for free. IEX also offers their own <a href=\"https://exchange.iex.io/products/order-types/\">complex/exotic order types.</a></li>\n",
        "            <br>\n",
        "            <li><a href=\"https://polygon.io/sip\">Polygon.io - SIP</a> is a good source for all equities market data. To understand more about the SIP, see <a href=\"https://polygon.io/blog/understanding-the-sips/\">here</a>, <a href=\"https://www.exegy.com/utdf-uqdf-basics-nasdaq-sip-feeds/\">here</a>, and <a href=\"https://focus.world-exchanges.org/articles/nasdaq-market-data\">here</a>.</li>\n",
        "            <br>\n",
        "            <li><a href=\"https://www.opraplan.com/\">OPRA (Options Pricing Reporting Authority</a>, as well as a <a href=\"https://www.tradersmagazine.com/news/a-smarter-way-to-get-options-data/\">smarter way to get options data.</a></li>\n",
        "            <br>\n",
        "        </ul>\n",
        "        <li>Note that IEX is frequently hiring <a href=\"https://iex.io/careers/apply/index.html?gh_jid=4595063\">business analysts</a> in different <a href=\"https://iex.io/careers/apply/index.html?gh_jid=4595148\">areas</a>.</li>\n",
        "        <br>\n",
        "        <li>An additional public database that could be useful is <a href=\"https://www.sec.gov/edgar/about\">EDGAR</a> (Electronic Data Gathering, Analysis, and Retrieval system), which is maintained by the SEC and is the primary database for all disclosures required by the Securities Act of 1933, the Securities Exchange Act of 1934, the Trust Indenture Act of 1939, and the Investment Company Act of 1940.</li>\n",
        "        <br>\n",
        "    </ul>\n",
        "</font>"
      ]
    }
  ],
  "metadata": {
    "hide_input": false,
    "kernelspec": {
      "display_name": "Python 3 (ipykernel)",
      "language": "python",
      "name": "python3"
    },
    "language_info": {
      "codemirror_mode": {
        "name": "ipython",
        "version": 3
      },
      "file_extension": ".py",
      "mimetype": "text/x-python",
      "name": "python",
      "nbconvert_exporter": "python",
      "pygments_lexer": "ipython3",
      "version": "3.8.8"
    },
    "toc": {
      "base_numbering": 1,
      "nav_menu": {},
      "number_sections": true,
      "sideBar": true,
      "skip_h1_title": false,
      "title_cell": "Table of Contents",
      "title_sidebar": "Contents",
      "toc_cell": true,
      "toc_position": {
        "height": "calc(100% - 180px)",
        "left": "10px",
        "top": "150px",
        "width": "183.969px"
      },
      "toc_section_display": true,
      "toc_window_display": true
    },
    "colab": {
      "provenance": []
    }
  },
  "nbformat": 4,
  "nbformat_minor": 5
}