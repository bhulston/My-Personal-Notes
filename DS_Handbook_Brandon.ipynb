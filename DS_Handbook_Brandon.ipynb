{
  "nbformat": 4,
  "nbformat_minor": 0,
  "metadata": {
    "colab": {
      "provenance": [],
      "collapsed_sections": [
        "k1K2_vtm5EPC",
        "mJaoItxh9Txp",
        "c7ULp7oQ_HYD",
        "dkqo4T3tAQRm",
        "LS76ZU6gENYZ"
      ]
    },
    "kernelspec": {
      "name": "python3",
      "display_name": "Python 3"
    },
    "language_info": {
      "name": "python"
    }
  },
  "cells": [
    {
      "cell_type": "code",
      "execution_count": null,
      "metadata": {
        "id": "ORtlWv0S4VLq"
      },
      "outputs": [],
      "source": [
        "import numpy as np"
      ]
    },
    {
      "cell_type": "markdown",
      "source": [
        "https://github.com/jakevdp/PythonDataScienceHandbook/tree/master/notebooks"
      ],
      "metadata": {
        "id": "yU0cBajrBVCW"
      }
    },
    {
      "cell_type": "markdown",
      "source": [
        "# Python DS Handbook\n"
      ],
      "metadata": {
        "id": "vtqSKgwb4XxJ"
      }
    },
    {
      "cell_type": "markdown",
      "source": [
        "# Chapter 2:Numpy"
      ],
      "metadata": {
        "id": "xcva0iIBPeQO"
      }
    },
    {
      "cell_type": "code",
      "source": [
        "#numpy arrays all have to be of the same type\n",
        "x = np.array([1,2, True])\n",
        "\n",
        "#notice here the true gets upcasted into a 1, but we can be explicit\n",
        "y = np.array([1,2,True], dtype = 'float32')\n",
        "\n",
        "x,y"
      ],
      "metadata": {
        "colab": {
          "base_uri": "https://localhost:8080/"
        },
        "id": "aylq4TmY4ftI",
        "outputId": "9786655a-8d67-47e1-a371-b13e627d99db"
      },
      "execution_count": null,
      "outputs": [
        {
          "output_type": "execute_result",
          "data": {
            "text/plain": [
              "(array([1, 2, 1]), array([1., 2., 1.], dtype=float32))"
            ]
          },
          "metadata": {},
          "execution_count": 4
        }
      ]
    },
    {
      "cell_type": "code",
      "source": [
        "#multi-dimensional arrays\n",
        "np.array([range(i, i + 3) for i in [2, 4, 6]])\n",
        "  #each list inside is essentially a row in the 2 dimensional structure"
      ],
      "metadata": {
        "colab": {
          "base_uri": "https://localhost:8080/"
        },
        "id": "CdCn_Yz442JG",
        "outputId": "acb442b5-b2eb-42fc-e512-2be5e39969fa"
      },
      "execution_count": null,
      "outputs": [
        {
          "output_type": "execute_result",
          "data": {
            "text/plain": [
              "array([[2, 3, 4],\n",
              "       [4, 5, 6],\n",
              "       [6, 7, 8]])"
            ]
          },
          "metadata": {},
          "execution_count": 5
        }
      ]
    },
    {
      "cell_type": "code",
      "source": [],
      "metadata": {
        "id": "wIOEYFHu48am"
      },
      "execution_count": null,
      "outputs": []
    },
    {
      "cell_type": "markdown",
      "source": [
        "A lot of modeling and other tasks use arrays because they have a lot less overhead than lists in python"
      ],
      "metadata": {
        "id": "-qfiIygI9a29"
      }
    },
    {
      "cell_type": "markdown",
      "source": [
        "## Creating arrays with numpy\n",
        "\n",
        "*   Methods: zeros(), ones(), full(), arange(), linspace(),random.random(), random.normal(), random.randint(), eye(), empty()\n",
        "\n"
      ],
      "metadata": {
        "id": "k1K2_vtm5EPC"
      }
    },
    {
      "cell_type": "code",
      "source": [
        "# Create a length-10 integer array filled with zeros\n",
        "np.zeros(10, dtype=int)\n",
        "np.zeros((10,2), dtype = int)"
      ],
      "metadata": {
        "colab": {
          "base_uri": "https://localhost:8080/"
        },
        "id": "EsuXro355HRa",
        "outputId": "cf321b01-7cc3-483c-eba6-00861a4f4a65"
      },
      "execution_count": null,
      "outputs": [
        {
          "output_type": "execute_result",
          "data": {
            "text/plain": [
              "array([[0, 0],\n",
              "       [0, 0],\n",
              "       [0, 0],\n",
              "       [0, 0],\n",
              "       [0, 0],\n",
              "       [0, 0],\n",
              "       [0, 0],\n",
              "       [0, 0],\n",
              "       [0, 0],\n",
              "       [0, 0]])"
            ]
          },
          "metadata": {},
          "execution_count": 34
        }
      ]
    },
    {
      "cell_type": "code",
      "source": [
        "# Create a 3x5 floating-point array filled with ones\n",
        "np.ones((3, 5), dtype=float)"
      ],
      "metadata": {
        "colab": {
          "base_uri": "https://localhost:8080/"
        },
        "id": "mq2Lpcg35Jj3",
        "outputId": "b6069f86-785e-41ac-e917-825645e1cd2c"
      },
      "execution_count": null,
      "outputs": [
        {
          "output_type": "execute_result",
          "data": {
            "text/plain": [
              "array([[1., 1., 1., 1., 1.],\n",
              "       [1., 1., 1., 1., 1.],\n",
              "       [1., 1., 1., 1., 1.]])"
            ]
          },
          "metadata": {},
          "execution_count": 7
        }
      ]
    },
    {
      "cell_type": "code",
      "source": [
        "# Create a 3x5 array filled with 3.14\n",
        "np.full((3, 5), 3.14)"
      ],
      "metadata": {
        "colab": {
          "base_uri": "https://localhost:8080/"
        },
        "id": "6wmTt9905KyG",
        "outputId": "72e8713d-4062-46ee-d332-1e11b4fc5b6c"
      },
      "execution_count": null,
      "outputs": [
        {
          "output_type": "execute_result",
          "data": {
            "text/plain": [
              "array([[3.14, 3.14, 3.14, 3.14, 3.14],\n",
              "       [3.14, 3.14, 3.14, 3.14, 3.14],\n",
              "       [3.14, 3.14, 3.14, 3.14, 3.14]])"
            ]
          },
          "metadata": {},
          "execution_count": 8
        }
      ]
    },
    {
      "cell_type": "code",
      "source": [
        "# Create an array filled with a linear sequence\n",
        "# Starting at 0, ending at 20, stepping by 2\n",
        "# (this is similar to the built-in range() function)\n",
        "np.arange(0, 24, 2).reshape(-1,1) # this creates a 2 dimensional array \n",
        "\n",
        "np.arange(0, 24, 2).reshape(2,2,3) # this creates a 3 dimensional array\n",
        "  #where we can really think about it as a two dimensional array with 2 rows, where in each row, there is 2 arrays with 3 numbers in each\n",
        "  #       0         1  \n",
        "  #    0 [x, y, z]  [x,y,z]\n",
        "  #    1 [x,y,z]    [x,y,z]\n"
      ],
      "metadata": {
        "colab": {
          "base_uri": "https://localhost:8080/"
        },
        "id": "1vF6O5Ra5MCP",
        "outputId": "5460e288-da1d-40fc-b1da-a7a8b8bce1dc"
      },
      "execution_count": null,
      "outputs": [
        {
          "output_type": "execute_result",
          "data": {
            "text/plain": [
              "array([[[ 0,  2,  4],\n",
              "        [ 6,  8, 10]],\n",
              "\n",
              "       [[12, 14, 16],\n",
              "        [18, 20, 22]]])"
            ]
          },
          "metadata": {},
          "execution_count": 19
        }
      ]
    },
    {
      "cell_type": "code",
      "source": [
        "#Matrix M\n",
        "#[[1,2,3,4],\n",
        "# [5,5,5,5]]\n",
        "\n"
      ],
      "metadata": {
        "id": "fjNpHvt15NB1"
      },
      "execution_count": null,
      "outputs": []
    },
    {
      "cell_type": "markdown",
      "source": [
        "In the example above, the 1 is at M[0][0]\n",
        "the 5s are at M[1][0:4]"
      ],
      "metadata": {
        "id": "HUpAMsL56T9B"
      }
    },
    {
      "cell_type": "code",
      "source": [
        "# Create an array of five values evenly spaced between 0 and 1\n",
        "np.linspace(0, 1, 5)"
      ],
      "metadata": {
        "colab": {
          "base_uri": "https://localhost:8080/"
        },
        "id": "e7aRzGx56gvh",
        "outputId": "3e863709-768f-40be-f472-eee79d548cd7"
      },
      "execution_count": null,
      "outputs": [
        {
          "output_type": "execute_result",
          "data": {
            "text/plain": [
              "array([0.  , 0.25, 0.5 , 0.75, 1.  ])"
            ]
          },
          "metadata": {},
          "execution_count": 20
        }
      ]
    },
    {
      "cell_type": "code",
      "source": [
        "# Create a 3x3x3x3 array of uniformly distributed\n",
        "# random values between 0 and 1\n",
        "np.random.random((3, 3, 3, 3)) #random takes 1 positional argument or a tuple\n",
        "\n",
        "#way to think of this is easy:\n",
        "  #go sequentially: 3 rows of data, in each row there are 3 rows of arrays, in each of those arrays there are 3 arrays, and in each of those arrays there are 3 numbers"
      ],
      "metadata": {
        "colab": {
          "base_uri": "https://localhost:8080/"
        },
        "id": "vc6ZXtN-8dki",
        "outputId": "e981bd4a-02c5-4426-b628-5f1b0094983a"
      },
      "execution_count": null,
      "outputs": [
        {
          "output_type": "execute_result",
          "data": {
            "text/plain": [
              "array([[[[0.12848623, 0.18538969, 0.30601852],\n",
              "         [0.14392253, 0.92910631, 0.37052864],\n",
              "         [0.43664864, 0.92417154, 0.62724387]],\n",
              "\n",
              "        [[0.61913815, 0.41829753, 0.14606471],\n",
              "         [0.59078577, 0.8740755 , 0.98258143],\n",
              "         [0.22352613, 0.10629602, 0.14603961]],\n",
              "\n",
              "        [[0.87426002, 0.73173452, 0.82856578],\n",
              "         [0.30114326, 0.28019661, 0.20562961],\n",
              "         [0.71837222, 0.46766678, 0.47580154]]],\n",
              "\n",
              "\n",
              "       [[[0.20338905, 0.62453659, 0.56823977],\n",
              "         [0.8456611 , 0.08943111, 0.90304486],\n",
              "         [0.52376751, 0.13361992, 0.35321868]],\n",
              "\n",
              "        [[0.04926161, 0.76726455, 0.28689571],\n",
              "         [0.39119051, 0.53124277, 0.52114033],\n",
              "         [0.35483772, 0.58531361, 0.68569363]],\n",
              "\n",
              "        [[0.53851449, 0.07843486, 0.67642704],\n",
              "         [0.03133523, 0.3790366 , 0.49887311],\n",
              "         [0.44560451, 0.71307029, 0.59403272]]],\n",
              "\n",
              "\n",
              "       [[[0.92541935, 0.71493384, 0.79834794],\n",
              "         [0.72073554, 0.7592823 , 0.13686684],\n",
              "         [0.11145609, 0.82198676, 0.50879811]],\n",
              "\n",
              "        [[0.04839366, 0.17025898, 0.49286424],\n",
              "         [0.68333583, 0.58333009, 0.42059515],\n",
              "         [0.45036325, 0.62816876, 0.34531641]],\n",
              "\n",
              "        [[0.94291934, 0.65337617, 0.27529815],\n",
              "         [0.23364583, 0.69866371, 0.84738826],\n",
              "         [0.4150294 , 0.09466518, 0.27886263]]]])"
            ]
          },
          "metadata": {},
          "execution_count": 27
        }
      ]
    },
    {
      "cell_type": "code",
      "source": [
        "# Create a 3x3 array of normally distributed random values\n",
        "# with mean 0 and standard deviation 1\n",
        "np.random.normal(0, 1, (3, 3))"
      ],
      "metadata": {
        "colab": {
          "base_uri": "https://localhost:8080/"
        },
        "id": "zDFuPGLZ8nkT",
        "outputId": "0517e59e-8ce6-4a6d-cff0-4afd024c7cfb"
      },
      "execution_count": null,
      "outputs": [
        {
          "output_type": "execute_result",
          "data": {
            "text/plain": [
              "array([[ 1.07258734,  1.41455108, -0.13285626],\n",
              "       [ 0.53918923, -0.69891877, -0.52172057],\n",
              "       [-1.34876373,  0.03676824,  0.12210732]])"
            ]
          },
          "metadata": {},
          "execution_count": 29
        }
      ]
    },
    {
      "cell_type": "code",
      "source": [
        "# Create a 3x3 array of random integers in the interval [0, 10)\n",
        "np.random.randint(0, 10, (3, 3))"
      ],
      "metadata": {
        "colab": {
          "base_uri": "https://localhost:8080/"
        },
        "id": "7nPGfuzh9J2E",
        "outputId": "1992f8e9-9f40-46dd-c270-c490467e6649"
      },
      "execution_count": null,
      "outputs": [
        {
          "output_type": "execute_result",
          "data": {
            "text/plain": [
              "array([[2, 1, 7],\n",
              "       [3, 1, 6],\n",
              "       [6, 2, 2]])"
            ]
          },
          "metadata": {},
          "execution_count": 30
        }
      ]
    },
    {
      "cell_type": "code",
      "source": [
        "# Create a 3x3 identity matrix\n",
        "np.eye(3)"
      ],
      "metadata": {
        "colab": {
          "base_uri": "https://localhost:8080/"
        },
        "id": "dpmtuPYt9Lwu",
        "outputId": "095b5535-cc6f-49e0-8f98-49b02e0bfcdf"
      },
      "execution_count": null,
      "outputs": [
        {
          "output_type": "execute_result",
          "data": {
            "text/plain": [
              "array([[1., 0., 0.],\n",
              "       [0., 1., 0.],\n",
              "       [0., 0., 1.]])"
            ]
          },
          "metadata": {},
          "execution_count": 31
        }
      ]
    },
    {
      "cell_type": "code",
      "source": [
        "# Create an uninitialized array of three integers\n",
        "# The values will be whatever happens to already exist at that memory location\n",
        "np.empty(3)"
      ],
      "metadata": {
        "colab": {
          "base_uri": "https://localhost:8080/"
        },
        "id": "kNXizFvb9M5x",
        "outputId": "6c5597fd-2677-4be2-a32e-db2b4c69c0cf"
      },
      "execution_count": null,
      "outputs": [
        {
          "output_type": "execute_result",
          "data": {
            "text/plain": [
              "array([1., 1., 1.])"
            ]
          },
          "metadata": {},
          "execution_count": 33
        }
      ]
    },
    {
      "cell_type": "markdown",
      "source": [
        "## Basics of Arrays"
      ],
      "metadata": {
        "id": "mJaoItxh9Txp"
      }
    },
    {
      "cell_type": "code",
      "source": [
        "import numpy as np\n",
        "np.random.seed(0)  # seed for reproducibility\n",
        "\n",
        "x1 = np.random.randint(10, size=6)  # One-dimensional array\n",
        "x2 = np.random.randint(10, size=(3, 4))  # Two-dimensional array\n",
        "x3 = np.random.randint(10, size=(3, 4, 5))  # Three-dimensional array\n",
        "\n",
        "x3\n",
        "print(x3.ndim, x3.shape, x3.size, x3.dtype)"
      ],
      "metadata": {
        "colab": {
          "base_uri": "https://localhost:8080/"
        },
        "id": "mHRd9G5S9XKY",
        "outputId": "5eb69eb2-bd9f-4f30-919e-9185b487cda8"
      },
      "execution_count": null,
      "outputs": [
        {
          "output_type": "stream",
          "name": "stdout",
          "text": [
            "3 (3, 4, 5) 60 int64\n"
          ]
        }
      ]
    },
    {
      "cell_type": "markdown",
      "source": [
        "### Array Indexing to access elements"
      ],
      "metadata": {
        "id": "c7ULp7oQ_HYD"
      }
    },
    {
      "cell_type": "code",
      "source": [
        "x1"
      ],
      "metadata": {
        "colab": {
          "base_uri": "https://localhost:8080/"
        },
        "id": "60aCpfzu_ZKX",
        "outputId": "4aeab4a2-ce55-455f-dad8-ceead8db9b19"
      },
      "execution_count": null,
      "outputs": [
        {
          "output_type": "execute_result",
          "data": {
            "text/plain": [
              "array([5, 0, 3, 3, 7, 9])"
            ]
          },
          "metadata": {},
          "execution_count": 47
        }
      ]
    },
    {
      "cell_type": "code",
      "source": [
        "x1[-1]"
      ],
      "metadata": {
        "colab": {
          "base_uri": "https://localhost:8080/"
        },
        "id": "E5qVFKsm_K3J",
        "outputId": "19c8f233-632a-4057-d581-cbe013f7dfa5"
      },
      "execution_count": null,
      "outputs": [
        {
          "output_type": "execute_result",
          "data": {
            "text/plain": [
              "9"
            ]
          },
          "metadata": {},
          "execution_count": 45
        }
      ]
    },
    {
      "cell_type": "markdown",
      "source": [
        "Multidimensional arrays "
      ],
      "metadata": {
        "id": "uuAGb2AX_gs3"
      }
    },
    {
      "cell_type": "code",
      "source": [
        "x2 #2 dimensional array"
      ],
      "metadata": {
        "colab": {
          "base_uri": "https://localhost:8080/"
        },
        "id": "vp6OXYe2_UXq",
        "outputId": "98a9fa64-82ac-42f5-d2a3-bb39777ec41b"
      },
      "execution_count": null,
      "outputs": [
        {
          "output_type": "execute_result",
          "data": {
            "text/plain": [
              "array([[3, 5, 2, 4],\n",
              "       [7, 6, 8, 8],\n",
              "       [1, 6, 7, 7]])"
            ]
          },
          "metadata": {},
          "execution_count": 50
        }
      ]
    },
    {
      "cell_type": "code",
      "source": [
        "x2[0]"
      ],
      "metadata": {
        "colab": {
          "base_uri": "https://localhost:8080/"
        },
        "id": "xG7i3IWN_VZj",
        "outputId": "0eba99eb-c95a-412d-89e9-107418606e1a"
      },
      "execution_count": null,
      "outputs": [
        {
          "output_type": "execute_result",
          "data": {
            "text/plain": [
              "array([3, 5, 2, 4])"
            ]
          },
          "metadata": {},
          "execution_count": 52
        }
      ]
    },
    {
      "cell_type": "code",
      "source": [
        "x2[0][0]"
      ],
      "metadata": {
        "colab": {
          "base_uri": "https://localhost:8080/"
        },
        "id": "bVd6Z8J6_nkv",
        "outputId": "b5f8d75e-36ce-4838-f72d-72c0c2f383b0"
      },
      "execution_count": null,
      "outputs": [
        {
          "output_type": "execute_result",
          "data": {
            "text/plain": [
              "3"
            ]
          },
          "metadata": {},
          "execution_count": 54
        }
      ]
    },
    {
      "cell_type": "code",
      "source": [
        "x2[2, -1] #3rd row of array, last number in it\n"
      ],
      "metadata": {
        "colab": {
          "base_uri": "https://localhost:8080/"
        },
        "id": "r5nqtyBH_rYs",
        "outputId": "f92b0a03-0329-4c49-f9f1-170a35a78be6"
      },
      "execution_count": null,
      "outputs": [
        {
          "output_type": "execute_result",
          "data": {
            "text/plain": [
              "7"
            ]
          },
          "metadata": {},
          "execution_count": 58
        }
      ]
    },
    {
      "cell_type": "code",
      "source": [
        "x2[0,0] = 9.123\n",
        "x2\n",
        "#notice how the float gets truncated so all the data types are the same"
      ],
      "metadata": {
        "colab": {
          "base_uri": "https://localhost:8080/"
        },
        "id": "aWPwvVm-_431",
        "outputId": "36707529-ed82-425a-b7b0-62ed077f84bd"
      },
      "execution_count": null,
      "outputs": [
        {
          "output_type": "execute_result",
          "data": {
            "text/plain": [
              "array([[9, 5, 2, 4],\n",
              "       [7, 6, 8, 8],\n",
              "       [1, 6, 7, 7]])"
            ]
          },
          "metadata": {},
          "execution_count": 61
        }
      ]
    },
    {
      "cell_type": "markdown",
      "source": [
        "### Array slicing"
      ],
      "metadata": {
        "id": "dkqo4T3tAQRm"
      }
    },
    {
      "cell_type": "code",
      "source": [
        "x1"
      ],
      "metadata": {
        "colab": {
          "base_uri": "https://localhost:8080/"
        },
        "id": "iuHdxkryAdS4",
        "outputId": "ad1de14f-19d5-40d0-acad-5b532b640327"
      },
      "execution_count": null,
      "outputs": [
        {
          "output_type": "execute_result",
          "data": {
            "text/plain": [
              "array([5, 0, 3, 3, 7, 9])"
            ]
          },
          "metadata": {},
          "execution_count": 67
        }
      ]
    },
    {
      "cell_type": "code",
      "source": [
        "x1[:5]\n"
      ],
      "metadata": {
        "colab": {
          "base_uri": "https://localhost:8080/"
        },
        "id": "XzqB_UiBADY_",
        "outputId": "7c4088b1-9cd4-4ae9-af19-d1fa037ae66e"
      },
      "execution_count": null,
      "outputs": [
        {
          "output_type": "execute_result",
          "data": {
            "text/plain": [
              "array([5, 0, 3, 3, 7])"
            ]
          },
          "metadata": {},
          "execution_count": 64
        }
      ]
    },
    {
      "cell_type": "code",
      "source": [
        "x1[2:]"
      ],
      "metadata": {
        "colab": {
          "base_uri": "https://localhost:8080/"
        },
        "id": "5onNo0SaAbDK",
        "outputId": "ff48dcb9-3248-45ca-a63c-0991dc6c72a1"
      },
      "execution_count": null,
      "outputs": [
        {
          "output_type": "execute_result",
          "data": {
            "text/plain": [
              "array([3, 3, 7, 9])"
            ]
          },
          "metadata": {},
          "execution_count": 66
        }
      ]
    },
    {
      "cell_type": "code",
      "source": [
        "x1[::2] #every other element\n"
      ],
      "metadata": {
        "colab": {
          "base_uri": "https://localhost:8080/"
        },
        "id": "llLmvOWqAcca",
        "outputId": "c9e91012-2452-48be-a2c2-380f112543c9"
      },
      "execution_count": null,
      "outputs": [
        {
          "output_type": "execute_result",
          "data": {
            "text/plain": [
              "array([5, 3, 7])"
            ]
          },
          "metadata": {},
          "execution_count": 71
        }
      ]
    },
    {
      "cell_type": "code",
      "source": [
        "x1[1::2] #every other element starting at index 1"
      ],
      "metadata": {
        "colab": {
          "base_uri": "https://localhost:8080/"
        },
        "id": "yDgif1rVAnu3",
        "outputId": "f8c0a933-f9c7-42ec-ccad-cb91d9136104"
      },
      "execution_count": null,
      "outputs": [
        {
          "output_type": "execute_result",
          "data": {
            "text/plain": [
              "array([0, 3, 9])"
            ]
          },
          "metadata": {},
          "execution_count": 73
        }
      ]
    },
    {
      "cell_type": "code",
      "source": [
        "x1[::-1] #reversed. the number is basically a step in a positive or negative direction"
      ],
      "metadata": {
        "colab": {
          "base_uri": "https://localhost:8080/"
        },
        "id": "l9_Zf6FrAsuH",
        "outputId": "b6f24383-1bae-4e04-f7ed-2def6c48906e"
      },
      "execution_count": null,
      "outputs": [
        {
          "output_type": "execute_result",
          "data": {
            "text/plain": [
              "array([9, 7, 3, 3, 0, 5])"
            ]
          },
          "metadata": {},
          "execution_count": 75
        }
      ]
    },
    {
      "cell_type": "code",
      "source": [
        "x1[4::-2] #every other element starting at index 4, reversed "
      ],
      "metadata": {
        "colab": {
          "base_uri": "https://localhost:8080/"
        },
        "id": "c-3nmTbqAxlT",
        "outputId": "6d776109-d040-4edc-c519-11146a149c19"
      },
      "execution_count": null,
      "outputs": [
        {
          "output_type": "execute_result",
          "data": {
            "text/plain": [
              "array([7, 3, 5])"
            ]
          },
          "metadata": {},
          "execution_count": 80
        }
      ]
    },
    {
      "cell_type": "markdown",
      "source": [
        "Multidimensional arrays"
      ],
      "metadata": {
        "id": "fe52-LZbBI1k"
      }
    },
    {
      "cell_type": "code",
      "source": [
        "x2"
      ],
      "metadata": {
        "colab": {
          "base_uri": "https://localhost:8080/"
        },
        "id": "3j-SRyruBJ_5",
        "outputId": "7b5ffd61-398a-4f5a-de08-56d2f15ef559"
      },
      "execution_count": null,
      "outputs": [
        {
          "output_type": "execute_result",
          "data": {
            "text/plain": [
              "array([[9, 5, 2, 4],\n",
              "       [7, 6, 8, 8],\n",
              "       [1, 6, 7, 7]])"
            ]
          },
          "metadata": {},
          "execution_count": 82
        }
      ]
    },
    {
      "cell_type": "code",
      "source": [
        "x2[:2, ::2] #first two rows, every 2"
      ],
      "metadata": {
        "colab": {
          "base_uri": "https://localhost:8080/"
        },
        "id": "g5ClWvFcBdaq",
        "outputId": "789f4b04-7435-4a48-ee4d-3d5f54bf13a0"
      },
      "execution_count": null,
      "outputs": [
        {
          "output_type": "execute_result",
          "data": {
            "text/plain": [
              "array([[9, 2],\n",
              "       [7, 8]])"
            ]
          },
          "metadata": {},
          "execution_count": 84
        }
      ]
    },
    {
      "cell_type": "code",
      "source": [
        "x2[::-1,] #reverse the row order"
      ],
      "metadata": {
        "colab": {
          "base_uri": "https://localhost:8080/"
        },
        "id": "64w-1L-3BjL_",
        "outputId": "ef8c5cbd-5006-4a15-c7c6-a799b29b4f4b"
      },
      "execution_count": null,
      "outputs": [
        {
          "output_type": "execute_result",
          "data": {
            "text/plain": [
              "array([[1, 6, 7, 7],\n",
              "       [7, 6, 8, 8],\n",
              "       [9, 5, 2, 4]])"
            ]
          },
          "metadata": {},
          "execution_count": 86
        }
      ]
    },
    {
      "cell_type": "code",
      "source": [
        "x2[:, ::-1] #reverse number order inside array \n",
        "# we use an empty slice here to get all the values for the first dimension"
      ],
      "metadata": {
        "colab": {
          "base_uri": "https://localhost:8080/"
        },
        "id": "1BCoSgpQBrYw",
        "outputId": "2263e95a-9d37-46b0-af36-6f52483ac5d3"
      },
      "execution_count": null,
      "outputs": [
        {
          "output_type": "execute_result",
          "data": {
            "text/plain": [
              "array([[4, 2, 5, 9],\n",
              "       [8, 8, 6, 7],\n",
              "       [7, 7, 6, 1]])"
            ]
          },
          "metadata": {},
          "execution_count": 89
        }
      ]
    },
    {
      "cell_type": "code",
      "source": [
        "x2[::-1, ::-1] #reverse the row order, and the column order"
      ],
      "metadata": {
        "colab": {
          "base_uri": "https://localhost:8080/"
        },
        "id": "zm9GSRuoBxJp",
        "outputId": "2b6a12c1-7fd3-41c8-bb2a-3ec361160fb4"
      },
      "execution_count": null,
      "outputs": [
        {
          "output_type": "execute_result",
          "data": {
            "text/plain": [
              "array([[7, 7, 6, 1],\n",
              "       [8, 8, 6, 7],\n",
              "       [4, 2, 5, 9]])"
            ]
          },
          "metadata": {},
          "execution_count": 91
        }
      ]
    },
    {
      "cell_type": "code",
      "source": [
        "x2[:,0]#get just the first column"
      ],
      "metadata": {
        "colab": {
          "base_uri": "https://localhost:8080/"
        },
        "id": "h4m9B4_NCCIF",
        "outputId": "b0ec6480-b727-4ede-a8ba-a43fe93157d0"
      },
      "execution_count": null,
      "outputs": [
        {
          "output_type": "execute_result",
          "data": {
            "text/plain": [
              "array([9, 7, 1])"
            ]
          },
          "metadata": {},
          "execution_count": 93
        }
      ]
    },
    {
      "cell_type": "code",
      "source": [
        "x2[0,:]\n",
        "#just the first row and all the values in that array\n",
        "#equivalent to x2[0]"
      ],
      "metadata": {
        "colab": {
          "base_uri": "https://localhost:8080/"
        },
        "id": "sY1klerJCJPp",
        "outputId": "c240780c-68b4-4811-db1f-5123a5124a06"
      },
      "execution_count": null,
      "outputs": [
        {
          "output_type": "execute_result",
          "data": {
            "text/plain": [
              "array([9, 5, 2, 4])"
            ]
          },
          "metadata": {},
          "execution_count": 95
        }
      ]
    },
    {
      "cell_type": "code",
      "source": [
        "#thing to note is that array slices return views, not copies\n",
        "x2[0,0] = 9\n",
        "x2_sub = x2[0:3,0]\n",
        "print(\"before\", x2_sub)\n",
        "\n",
        "x2[0,0] = 12\n",
        "x2_sub"
      ],
      "metadata": {
        "colab": {
          "base_uri": "https://localhost:8080/"
        },
        "id": "oW8kTWIzCV86",
        "outputId": "133a2028-6b8c-4d5d-bd9e-924492d045e0"
      },
      "execution_count": null,
      "outputs": [
        {
          "output_type": "stream",
          "name": "stdout",
          "text": [
            "before [9 7 1]\n"
          ]
        },
        {
          "output_type": "execute_result",
          "data": {
            "text/plain": [
              "array([12,  7,  1])"
            ]
          },
          "metadata": {},
          "execution_count": 99
        }
      ]
    },
    {
      "cell_type": "code",
      "source": [
        "#The views also affect the original arrays\n",
        "x2[0,0] = 9\n",
        "x2_sub = x2[0:3,0]\n",
        "print(\"x2 before\", x2)\n",
        "\n",
        "x2_sub[0] = 12\n",
        "print(\"x2 after\", x2)"
      ],
      "metadata": {
        "colab": {
          "base_uri": "https://localhost:8080/"
        },
        "id": "T-lnxfc8Dg9B",
        "outputId": "021ad358-f860-499e-bd26-b6f9b1e31b46"
      },
      "execution_count": null,
      "outputs": [
        {
          "output_type": "stream",
          "name": "stdout",
          "text": [
            "x2 before [[9 5 2 4]\n",
            " [7 6 8 8]\n",
            " [1 6 7 7]]\n",
            "x2 after [[12  5  2  4]\n",
            " [ 7  6  8  8]\n",
            " [ 1  6  7  7]]\n"
          ]
        }
      ]
    },
    {
      "cell_type": "markdown",
      "source": [
        "IF we need to explicitly copy the data instead of getting a view"
      ],
      "metadata": {
        "id": "WIbNXU9hC60K"
      }
    },
    {
      "cell_type": "code",
      "source": [
        "x2[0,0] = 9\n",
        "x2_sub_copy = x2[0:3, 0].copy()\n",
        "\n",
        "\n",
        "x2_sub_copy[0] = 12\n",
        "print(x2)\n",
        "#notice here the value in x2 is not changed\n",
        "\n"
      ],
      "metadata": {
        "colab": {
          "base_uri": "https://localhost:8080/"
        },
        "id": "MXskka4uCdBW",
        "outputId": "60d99d8b-7f38-48f3-cf52-6ff1ade17031"
      },
      "execution_count": null,
      "outputs": [
        {
          "output_type": "stream",
          "name": "stdout",
          "text": [
            "[[9 5 2 4]\n",
            " [7 6 8 8]\n",
            " [1 6 7 7]]\n"
          ]
        }
      ]
    },
    {
      "cell_type": "markdown",
      "source": [
        "### Array Reshaping, concatenation and splitting\n"
      ],
      "metadata": {
        "id": "LS76ZU6gENYZ"
      }
    },
    {
      "cell_type": "markdown",
      "source": [
        "Reshaping"
      ],
      "metadata": {
        "id": "LAkkfoaVEsov"
      }
    },
    {
      "cell_type": "code",
      "source": [
        "x = np.array([1, 2, 3])\n",
        "x.reshape((1,3)) # or x.reshape(1,3)"
      ],
      "metadata": {
        "colab": {
          "base_uri": "https://localhost:8080/"
        },
        "id": "oMIXf3byELqL",
        "outputId": "2c8f8ef5-a3b3-4431-e4fd-f9bb240cef99"
      },
      "execution_count": null,
      "outputs": [
        {
          "output_type": "execute_result",
          "data": {
            "text/plain": [
              "array([[1, 2, 3]])"
            ]
          },
          "metadata": {},
          "execution_count": 112
        }
      ]
    },
    {
      "cell_type": "code",
      "source": [
        "x[np.newaxis, ] #or we can do it this way with np.newaxis"
      ],
      "metadata": {
        "colab": {
          "base_uri": "https://localhost:8080/"
        },
        "id": "CzwHt-eGEW0G",
        "outputId": "7ab8ed91-5f27-4295-91e9-0a04cfeb2f6e"
      },
      "execution_count": null,
      "outputs": [
        {
          "output_type": "execute_result",
          "data": {
            "text/plain": [
              "array([[1, 2, 3]])"
            ]
          },
          "metadata": {},
          "execution_count": 114
        }
      ]
    },
    {
      "cell_type": "code",
      "source": [
        "print(x.reshape(3, 1), \"\\n\\n\\n\",\n",
        "      x.reshape(-1,1))"
      ],
      "metadata": {
        "colab": {
          "base_uri": "https://localhost:8080/"
        },
        "id": "vSaF4twSEcdC",
        "outputId": "7998c99a-da3a-41b6-e105-a424e346f2a6"
      },
      "execution_count": null,
      "outputs": [
        {
          "output_type": "stream",
          "name": "stdout",
          "text": [
            "[[1]\n",
            " [2]\n",
            " [3]] \n",
            "\n",
            "\n",
            " [[1]\n",
            " [2]\n",
            " [3]]\n"
          ]
        }
      ]
    },
    {
      "cell_type": "markdown",
      "source": [
        "Concatenation"
      ],
      "metadata": {
        "id": "7GsS0xarErXj"
      }
    },
    {
      "cell_type": "code",
      "source": [
        "x = np.array([1,2,3])\n",
        "x = np.array([[3,2,1], [3,2,1]])\n",
        "np.concatenate([x[1],y, x[0]])"
      ],
      "metadata": {
        "colab": {
          "base_uri": "https://localhost:8080/"
        },
        "id": "0_xp4UzmEtrs",
        "outputId": "4679eadf-5b86-4650-cb1b-098ab1afca5e"
      },
      "execution_count": null,
      "outputs": [
        {
          "output_type": "execute_result",
          "data": {
            "text/plain": [
              "array([3., 2., 1., 1., 2., 1., 3., 2., 1.])"
            ]
          },
          "metadata": {},
          "execution_count": 124
        }
      ]
    },
    {
      "cell_type": "code",
      "source": [
        "#2 dimensional arrays\n",
        "grid = np.array([[1, 2, 3],\n",
        "                 [4, 5, 6]])\n",
        "\n",
        "grid_conc = np.concatenate([grid, grid])"
      ],
      "metadata": {
        "id": "EdUM8cWDFLem"
      },
      "execution_count": null,
      "outputs": []
    },
    {
      "cell_type": "code",
      "source": [
        "grid_ax_1 = np.concatenate([grid, grid], axis = 1) #concatenates along second axis (think the second value in the shape of grid)"
      ],
      "metadata": {
        "id": "A3WPThmOFQ1i"
      },
      "execution_count": null,
      "outputs": []
    },
    {
      "cell_type": "code",
      "source": [
        "print(grid.shape, grid_conc.shape, grid_ax_1.shape)"
      ],
      "metadata": {
        "colab": {
          "base_uri": "https://localhost:8080/"
        },
        "id": "KaweobhKFQ4X",
        "outputId": "d8619336-a921-46bd-e3af-b88b11c2d220"
      },
      "execution_count": null,
      "outputs": [
        {
          "output_type": "stream",
          "name": "stdout",
          "text": [
            "(2, 3) (4, 3) (2, 6)\n"
          ]
        }
      ]
    },
    {
      "cell_type": "code",
      "source": [
        "x = np.array([1, 2, 3])\n",
        "grid = np.array([[9, 8, 7],\n",
        "                 [6, 5, 4]])\n",
        "\n",
        "# vertically stack the arrays\n",
        "np.vstack([x, grid])"
      ],
      "metadata": {
        "colab": {
          "base_uri": "https://localhost:8080/"
        },
        "id": "I-q66ro_F8Ij",
        "outputId": "bea59173-d34e-44d8-fc28-44e665fb76d9"
      },
      "execution_count": null,
      "outputs": [
        {
          "output_type": "execute_result",
          "data": {
            "text/plain": [
              "array([[1, 2, 3],\n",
              "       [9, 8, 7],\n",
              "       [6, 5, 4]])"
            ]
          },
          "metadata": {},
          "execution_count": 137
        }
      ]
    },
    {
      "cell_type": "code",
      "source": [
        "y = np.array([[99, 100],\n",
        "              [99, 0]])\n",
        "# horizontally stack the arrays\n",
        "np.hstack([grid, y])"
      ],
      "metadata": {
        "colab": {
          "base_uri": "https://localhost:8080/"
        },
        "id": "I9FDhFE-F8dp",
        "outputId": "d504bdad-9e0b-457c-a411-d6aa90a43c70"
      },
      "execution_count": null,
      "outputs": [
        {
          "output_type": "execute_result",
          "data": {
            "text/plain": [
              "array([[  9,   8,   7,  99, 100],\n",
              "       [  6,   5,   4,  99,   0]])"
            ]
          },
          "metadata": {},
          "execution_count": 139
        }
      ]
    },
    {
      "cell_type": "markdown",
      "source": [
        "Splitting arrays"
      ],
      "metadata": {
        "id": "bUiEEoiLGL3s"
      }
    },
    {
      "cell_type": "code",
      "source": [
        "x = [1, 2, 3, 99, 99, 3, 2, 1]\n",
        "x1, x2, x3 = np.split(x, [3, 5])\n",
        "print(x1, x2, x3)"
      ],
      "metadata": {
        "colab": {
          "base_uri": "https://localhost:8080/"
        },
        "id": "ZPTEC5ryF-I9",
        "outputId": "61fee81f-7cb8-4935-ffce-c95dd27f511a"
      },
      "execution_count": null,
      "outputs": [
        {
          "output_type": "stream",
          "name": "stdout",
          "text": [
            "[1 2 3] [99 99] [3 2 1]\n"
          ]
        }
      ]
    },
    {
      "cell_type": "code",
      "source": [
        "grid = np.arange(16).reshape((4, 4))\n",
        "grid"
      ],
      "metadata": {
        "colab": {
          "base_uri": "https://localhost:8080/"
        },
        "id": "wbNGfy-sGNuX",
        "outputId": "b59a04c4-9442-4294-fef0-6fe3d1745d84"
      },
      "execution_count": null,
      "outputs": [
        {
          "output_type": "execute_result",
          "data": {
            "text/plain": [
              "array([[ 0,  1,  2,  3],\n",
              "       [ 4,  5,  6,  7],\n",
              "       [ 8,  9, 10, 11],\n",
              "       [12, 13, 14, 15]])"
            ]
          },
          "metadata": {},
          "execution_count": 141
        }
      ]
    },
    {
      "cell_type": "code",
      "source": [
        "upper, lower = np.vsplit(grid, [1])\n",
        "print(upper)\n",
        "print(lower)"
      ],
      "metadata": {
        "colab": {
          "base_uri": "https://localhost:8080/"
        },
        "id": "9af_HzIQGOte",
        "outputId": "71665b05-d404-44cf-9d8e-617a71a5e5de"
      },
      "execution_count": null,
      "outputs": [
        {
          "output_type": "stream",
          "name": "stdout",
          "text": [
            "[[0 1 2 3]]\n",
            "[[ 4  5  6  7]\n",
            " [ 8  9 10 11]\n",
            " [12 13 14 15]]\n"
          ]
        }
      ]
    },
    {
      "cell_type": "code",
      "source": [
        "left, right = np.hsplit(grid, [1])\n",
        "print(left)\n",
        "print(right)"
      ],
      "metadata": {
        "colab": {
          "base_uri": "https://localhost:8080/"
        },
        "id": "7X1cU7IPGP8O",
        "outputId": "a5d47448-840c-47cc-f25b-9150d5a3fe60"
      },
      "execution_count": null,
      "outputs": [
        {
          "output_type": "stream",
          "name": "stdout",
          "text": [
            "[[ 0]\n",
            " [ 4]\n",
            " [ 8]\n",
            " [12]]\n",
            "[[ 1  2  3]\n",
            " [ 5  6  7]\n",
            " [ 9 10 11]\n",
            " [13 14 15]]\n"
          ]
        }
      ]
    },
    {
      "cell_type": "code",
      "source": [],
      "metadata": {
        "id": "kuUVp2rgGRLJ"
      },
      "execution_count": null,
      "outputs": []
    },
    {
      "cell_type": "markdown",
      "source": [
        "## Computations on NumPy Arrays: Universal functions"
      ],
      "metadata": {
        "id": "UUkJVenUHDlB"
      }
    },
    {
      "cell_type": "markdown",
      "source": [
        "### Ufuncs\n"
      ],
      "metadata": {
        "id": "L_3YymZnQoL9"
      }
    },
    {
      "cell_type": "code",
      "source": [
        "import numpy as np\n",
        "np.random.seed(0)"
      ],
      "metadata": {
        "id": "mCMEfyIARgeU"
      },
      "execution_count": null,
      "outputs": []
    },
    {
      "cell_type": "code",
      "source": [
        "np.arange(5) / np.arange(1, 6)\n",
        "#[0,1,2,3,4] / [1,2,3,4,5] ="
      ],
      "metadata": {
        "colab": {
          "base_uri": "https://localhost:8080/"
        },
        "id": "8CyVgd8gRsMP",
        "outputId": "f496a9ce-7cdf-4eba-ebdc-d016100f7f85"
      },
      "execution_count": null,
      "outputs": [
        {
          "output_type": "execute_result",
          "data": {
            "text/plain": [
              "array([0.        , 0.5       , 0.66666667, 0.75      , 0.8       ])"
            ]
          },
          "metadata": {},
          "execution_count": 3
        }
      ]
    },
    {
      "cell_type": "code",
      "source": [
        "x = np.arange(9).reshape((3, 3))\n",
        "x"
      ],
      "metadata": {
        "colab": {
          "base_uri": "https://localhost:8080/"
        },
        "id": "mzc39uf4RvlE",
        "outputId": "3e82823d-c18f-4a22-f12d-bb990faa6ad5"
      },
      "execution_count": null,
      "outputs": [
        {
          "output_type": "execute_result",
          "data": {
            "text/plain": [
              "array([[0, 1, 2],\n",
              "       [3, 4, 5],\n",
              "       [6, 7, 8]])"
            ]
          },
          "metadata": {},
          "execution_count": 12
        }
      ]
    },
    {
      "cell_type": "code",
      "source": [
        "x ** 2 # each value in the matrix squared"
      ],
      "metadata": {
        "colab": {
          "base_uri": "https://localhost:8080/"
        },
        "id": "t0LjwcJtTevK",
        "outputId": "4074124d-28f4-4e98-c424-4def9d7122b4"
      },
      "execution_count": null,
      "outputs": [
        {
          "output_type": "execute_result",
          "data": {
            "text/plain": [
              "array([[ 0,  1,  4],\n",
              "       [ 9, 16, 25],\n",
              "       [36, 49, 64]])"
            ]
          },
          "metadata": {},
          "execution_count": 15
        }
      ]
    },
    {
      "cell_type": "code",
      "source": [
        "2 ** x #2 to the power of each value in the matrix"
      ],
      "metadata": {
        "colab": {
          "base_uri": "https://localhost:8080/"
        },
        "id": "P2WK2qMuUaC6",
        "outputId": "f004241a-b93f-4021-b590-bbd3443e7393"
      },
      "execution_count": null,
      "outputs": [
        {
          "output_type": "execute_result",
          "data": {
            "text/plain": [
              "array([[  1,   2,   4],\n",
              "       [  8,  16,  32],\n",
              "       [ 64, 128, 256]])"
            ]
          },
          "metadata": {},
          "execution_count": 16
        }
      ]
    },
    {
      "cell_type": "markdown",
      "source": [
        "### arithmetic with arrays"
      ],
      "metadata": {
        "id": "LKLo3yxwcd93"
      }
    },
    {
      "cell_type": "code",
      "source": [
        "x = np.arange(4)\n",
        "print(\"x     =\", x)\n",
        "print(\"x + 5 =\", x + 5)\n",
        "print(\"x - 5 =\", x - 5)\n",
        "print(\"x * 2 =\", x * 2)\n",
        "print(\"x / 2 =\", x / 2)\n",
        "print(\"x // 2 =\", x // 2)  # floor division"
      ],
      "metadata": {
        "colab": {
          "base_uri": "https://localhost:8080/"
        },
        "id": "tCnWEaP5T2L5",
        "outputId": "58de0b5f-b280-4b2e-db78-704e1bd5a19c"
      },
      "execution_count": null,
      "outputs": [
        {
          "output_type": "stream",
          "name": "stdout",
          "text": [
            "x     = [0 1 2 3]\n",
            "x + 5 = [5 6 7 8]\n",
            "x - 5 = [-5 -4 -3 -2]\n",
            "x * 2 = [0 2 4 6]\n",
            "x / 2 = [0.  0.5 1.  1.5]\n",
            "x // 2 = [0 0 1 1]\n"
          ]
        }
      ]
    },
    {
      "cell_type": "code",
      "source": [
        "print(\"-x     = \", -x)\n",
        "print(\"x ** 2 = \", x ** 2)\n",
        "print(\"x % 2  = \", x % 2)"
      ],
      "metadata": {
        "colab": {
          "base_uri": "https://localhost:8080/"
        },
        "id": "HBYD4jN9cmGf",
        "outputId": "08a7aba7-5cac-4d79-9191-1f2495ad14f5"
      },
      "execution_count": null,
      "outputs": [
        {
          "output_type": "stream",
          "name": "stdout",
          "text": [
            "-x     =  [ 0 -1 -2 -3]\n",
            "x ** 2 =  [0 1 4 9]\n",
            "x % 2  =  [0 1 0 1]\n"
          ]
        }
      ]
    },
    {
      "cell_type": "code",
      "source": [
        "#order of operations and mixing\n",
        "-(0.5*x + 1) ** 2\n"
      ],
      "metadata": {
        "colab": {
          "base_uri": "https://localhost:8080/"
        },
        "id": "aKw-nvBUcmYE",
        "outputId": "d9f6ce18-ab4c-4326-de5e-73bb76fac549"
      },
      "execution_count": null,
      "outputs": [
        {
          "output_type": "execute_result",
          "data": {
            "text/plain": [
              "array([-1.  , -2.25, -4.  , -6.25])"
            ]
          },
          "metadata": {},
          "execution_count": 23
        }
      ]
    },
    {
      "cell_type": "code",
      "source": [
        "x = np.array([3 - 4j, 4 - 3j, 2 + 0j, 0 + 1j]) #j is the imaginary coefficient, showing abs works with complex values as well\n",
        "np.abs(x)"
      ],
      "metadata": {
        "colab": {
          "base_uri": "https://localhost:8080/"
        },
        "id": "vexhHutydInv",
        "outputId": "a1bb8420-6b71-41a4-ea97-77afc479eaa5"
      },
      "execution_count": null,
      "outputs": [
        {
          "output_type": "execute_result",
          "data": {
            "text/plain": [
              "array([5., 5., 2., 1.])"
            ]
          },
          "metadata": {},
          "execution_count": 26
        }
      ]
    },
    {
      "cell_type": "markdown",
      "source": [
        "### Trigonometric functions"
      ],
      "metadata": {
        "id": "5YWKhnLBdigh"
      }
    },
    {
      "cell_type": "code",
      "source": [
        "theta = np.linspace(0, 10, 10)\n",
        "theta"
      ],
      "metadata": {
        "colab": {
          "base_uri": "https://localhost:8080/"
        },
        "id": "jkdaYr7kdJH5",
        "outputId": "39afa807-779c-413d-9a41-3eec05360fcc"
      },
      "execution_count": null,
      "outputs": [
        {
          "output_type": "execute_result",
          "data": {
            "text/plain": [
              "array([ 0.        ,  1.11111111,  2.22222222,  3.33333333,  4.44444444,\n",
              "        5.55555556,  6.66666667,  7.77777778,  8.88888889, 10.        ])"
            ]
          },
          "metadata": {},
          "execution_count": 45
        }
      ]
    },
    {
      "cell_type": "code",
      "source": [
        "#trigonometric functions\n",
        "print(\"sin(theta) = \", np.sin(theta))\n",
        "print(\"cos(theta) = \", np.cos(theta))\n",
        "print(\"tan(theta) = \", np.tan(theta))\n",
        "\n",
        "x = [-1, 0, 1]\n",
        "print(\"x         = \", x)\n",
        "print(\"arcsin(x) = \", np.arcsin(x))\n",
        "print(\"arccos(x) = \", np.arccos(x))\n",
        "print(\"arctan(x) = \", np.arctan(x))"
      ],
      "metadata": {
        "colab": {
          "base_uri": "https://localhost:8080/"
        },
        "id": "PFUjKH5uegHS",
        "outputId": "a90507a3-87db-47b3-bb2c-67911395c799"
      },
      "execution_count": null,
      "outputs": [
        {
          "output_type": "stream",
          "name": "stdout",
          "text": [
            "sin(theta) =  [ 0.          0.8961922   0.79522006 -0.19056796 -0.96431712 -0.66510151\n",
            "  0.37415123  0.99709789  0.51060568 -0.54402111]\n",
            "cos(theta) =  [ 1.          0.44366602 -0.60632092 -0.981674   -0.26474988  0.74675295\n",
            "  0.9273677   0.07613012 -0.859815   -0.83907153]\n",
            "tan(theta) =  [ 0.          2.01997033 -1.31154975  0.19412551  3.64237039 -0.89065803\n",
            "  0.4034551  13.09728436 -0.59385528  0.64836083]\n",
            "x         =  [-1, 0, 1]\n",
            "arcsin(x) =  [-1.57079633  0.          1.57079633]\n",
            "arccos(x) =  [3.14159265 1.57079633 0.        ]\n",
            "arctan(x) =  [-0.78539816  0.          0.78539816]\n"
          ]
        }
      ]
    },
    {
      "cell_type": "code",
      "source": [
        "import numpy as np\n",
        "import matplotlib.pyplot as plt\n",
        "\n",
        "plt.scatter(np.arange(10), np.sin(theta))\n",
        "plt.plot(np.arange(10), np.sin(theta), 'r')\n",
        "plt.show()\n",
        "\n",
        "#pretty close! But we don't have the curve that we want on the best fit line. "
      ],
      "metadata": {
        "colab": {
          "base_uri": "https://localhost:8080/",
          "height": 265
        },
        "id": "N1cNzZOOffxE",
        "outputId": "ae24e6d1-4db6-43ed-ae88-422269420a20"
      },
      "execution_count": null,
      "outputs": [
        {
          "output_type": "display_data",
          "data": {
            "text/plain": [
              "<Figure size 432x288 with 1 Axes>"
            ],
            "image/png": "[encoded data removed]"
          },
          "metadata": {
            "needs_background": "light"
          }
        }
      ]
    },
    {
      "cell_type": "code",
      "source": [
        "theta = np.linspace(0, 10, 150)\n",
        "theta\n",
        "\n",
        "#trigonometric functions\n",
        "print(\"sin(theta) = \", np.sin(theta))\n",
        "\n",
        "\n",
        "plt.scatter(np.arange(150), np.sin(theta))\n",
        "plt.plot(np.arange(150), np.sin(theta), 'r')\n",
        "plt.show()"
      ],
      "metadata": {
        "colab": {
          "base_uri": "https://localhost:8080/",
          "height": 699
        },
        "id": "Kp2GCSGhg-qH",
        "outputId": "5e4db1b8-4cdb-4583-acc8-f2a153bf2da8"
      },
      "execution_count": null,
      "outputs": [
        {
          "output_type": "stream",
          "name": "stdout",
          "text": [
            "sin(theta) =  [ 0.          0.06706372  0.13382548  0.19998468  0.26524342  0.32930787\n",
            "  0.39188958  0.45270677  0.51148559  0.56796139  0.62187988  0.67299828\n",
            "  0.72108644  0.76592783  0.80732054  0.8450782   0.8790308   0.90902547\n",
            "  0.93492715  0.95661921  0.97400399  0.98700321  0.99555834  0.99963086\n",
            "  0.99920243  0.99427498  0.98487069  0.97103191  0.95282096  0.93031982\n",
            "  0.90362982  0.87287112  0.83818222  0.79971931  0.75765558  0.71218042\n",
            "  0.66349859  0.61182928  0.55740514  0.50047123  0.44128389  0.38010961\n",
            "  0.31722385  0.25290976  0.18745691  0.12116002  0.05431759 -0.01276942\n",
            " -0.07979892 -0.14646912 -0.21247983 -0.27753383 -0.3413382  -0.40360565\n",
            " -0.46405583 -0.52241654 -0.57842501 -0.63182906 -0.68238823 -0.72987488\n",
            " -0.77407517 -0.81479011 -0.85183637 -0.88504714 -0.91427288 -0.93938201\n",
            " -0.96026147 -0.97681725 -0.98897479 -0.99667937 -0.99989629 -0.99861106\n",
            " -0.99282948 -0.98257757 -0.96790149 -0.94886734 -0.9255608  -0.89808682\n",
            " -0.8665691  -0.83114957 -0.79198768 -0.74925979 -0.70315827 -0.6538907\n",
            " -0.60167892 -0.54675801 -0.48937526 -0.42978905 -0.36826766 -0.30508811\n",
            " -0.24053486 -0.17489858 -0.1084748  -0.04156259  0.02553675  0.09252111\n",
            "  0.15908888  0.22494034  0.28977898  0.35331286  0.4152559   0.47532921\n",
            "  0.5332623   0.58879432  0.64167522  0.69166691  0.73854429  0.7820963\n",
            "  0.82212683  0.85845564  0.89091916  0.91937122  0.9436837   0.96374715\n",
            "  0.97947122  0.9907851   0.99763787  0.99999867  0.99785686  0.99122208\n",
            "  0.98012422  0.96461324  0.94475899  0.92065085  0.89239737  0.86012578\n",
            "  0.82398138  0.78412691  0.74074182  0.69402146  0.64417619  0.59143045\n",
            "  0.53602172  0.4781995   0.41822413  0.35636566  0.29290261  0.22812074\n",
            "  0.16231172  0.09577189  0.02880082 -0.03829992 -0.10522821 -0.1716827\n",
            " -0.23736417 -0.30197688 -0.36522991 -0.42683844 -0.48652509 -0.54402111]\n"
          ]
        },
        {
          "output_type": "display_data",
          "data": {
            "text/plain": [
              "<Figure size 432x288 with 1 Axes>"
            ],
            "image/png": "[encoded data removed]"
          },
          "metadata": {
            "needs_background": "light"
          }
        }
      ]
    },
    {
      "cell_type": "markdown",
      "source": [
        "### Exponential and logging"
      ],
      "metadata": {
        "id": "rZD7M47kn6QW"
      }
    },
    {
      "cell_type": "code",
      "source": [
        "x = [1, 2, 3]\n",
        "print(\"x     =\", x) \n",
        "print(\"e^x   =\", np.exp(x)) \n",
        "print(\"2^x   =\", np.exp2(x))\n",
        "print(\"3^x   =\", np.power(3, x))\n"
      ],
      "metadata": {
        "colab": {
          "base_uri": "https://localhost:8080/"
        },
        "id": "UHE8U8Bde8Qd",
        "outputId": "137ab4ef-1564-452f-f86b-d0dc131cc5e2"
      },
      "execution_count": null,
      "outputs": [
        {
          "output_type": "stream",
          "name": "stdout",
          "text": [
            "x     = [1, 2, 3]\n",
            "e^x   = [ 2.71828183  7.3890561  20.08553692]\n",
            "2^x   = [2. 4. 8.]\n",
            "3^x   = [ 3  9 27]\n"
          ]
        }
      ]
    },
    {
      "cell_type": "code",
      "source": [
        "x = [1, 2, 4, 10]\n",
        "print(\"x        =\", x)\n",
        "print(\"ln(x)    =\", np.log(x))\n",
        "print(\"log2(x)  =\", np.log2(x))\n",
        "print(\"log10(x) =\", np.log10(x))"
      ],
      "metadata": {
        "colab": {
          "base_uri": "https://localhost:8080/"
        },
        "id": "arFR9hV2fYIq",
        "outputId": "775c51d4-085c-43dc-ac91-9aecbfb7843b"
      },
      "execution_count": null,
      "outputs": [
        {
          "output_type": "stream",
          "name": "stdout",
          "text": [
            "x        = [1, 2, 4, 10]\n",
            "ln(x)    = [0.         0.69314718 1.38629436 2.30258509]\n",
            "log2(x)  = [0.         1.         2.         3.32192809]\n",
            "log10(x) = [0.         0.30103    0.60205999 1.        ]\n"
          ]
        }
      ]
    },
    {
      "cell_type": "code",
      "source": [
        "x = [0, 0.001, 0.01, 0.1]\n",
        "print(\"exp(x) - 1 =\", np.expm1(x))\n",
        "print(\"log(1 + x) =\", np.log1p(x))"
      ],
      "metadata": {
        "colab": {
          "base_uri": "https://localhost:8080/"
        },
        "id": "x51fBvDXnAr1",
        "outputId": "c7e8644c-aa30-4f28-c83e-938ad9bf88e6"
      },
      "execution_count": null,
      "outputs": [
        {
          "output_type": "stream",
          "name": "stdout",
          "text": [
            "exp(x) - 1 = [0.         0.0010005  0.01005017 0.10517092]\n",
            "log(1 + x) = [0.         0.0009995  0.00995033 0.09531018]\n"
          ]
        }
      ]
    },
    {
      "cell_type": "code",
      "source": [
        "print(x, np.log(np.exp(x)))  #the inverse of the exponentials is the log\n",
        "#the above translates to - log_e(e^x) = x"
      ],
      "metadata": {
        "colab": {
          "base_uri": "https://localhost:8080/"
        },
        "id": "u1D0_cgZpI5G",
        "outputId": "06b6cbe9-89af-4fd3-8844-ea074fcc7eff"
      },
      "execution_count": null,
      "outputs": [
        {
          "output_type": "stream",
          "name": "stdout",
          "text": [
            "[0, 0.001, 0.01, 0.1] [0.    0.001 0.01  0.1  ]\n"
          ]
        }
      ]
    },
    {
      "cell_type": "code",
      "source": [],
      "metadata": {
        "id": "P08H_aJdpTPn"
      },
      "execution_count": null,
      "outputs": []
    },
    {
      "cell_type": "markdown",
      "source": [
        "### Specialized ufuncs\n",
        "\n",
        "Numpy has a lot more in their documentation, but we can also use special"
      ],
      "metadata": {
        "id": "FCb9u-LArUmb"
      }
    },
    {
      "cell_type": "code",
      "source": [
        "from scipy import special\n",
        "import numpy as np"
      ],
      "metadata": {
        "id": "asHPk1Hf_1ed"
      },
      "execution_count": null,
      "outputs": []
    },
    {
      "cell_type": "code",
      "source": [
        "x = [1,5,10,100]\n",
        "print(\"gamma(x)     =\", special.gamma(x))  # gamma is used for factorials of non-integer values. gamma of 5 is 4*3*2\n",
        "  #if x is 3.2, \n",
        "  # https://towardsdatascience.com/gamma-function-intuition-derivation-and-examples-5e5f72517dee\n",
        "print(\"ln|gamma(x)| =\", special.gammaln(x))\n",
        "print(\"beta(x, 2)   =\", special.beta(x, 2))"
      ],
      "metadata": {
        "colab": {
          "base_uri": "https://localhost:8080/"
        },
        "id": "SzDiC8hh_3cu",
        "outputId": "3c4a2c59-f3ed-4211-cc13-33e5c5a7ccec"
      },
      "execution_count": null,
      "outputs": [
        {
          "output_type": "stream",
          "name": "stdout",
          "text": [
            "gamma(x)     = [1.00000000e+000 2.40000000e+001 3.62880000e+005 9.33262154e+155]\n",
            "ln|gamma(x)| = [  0.           3.17805383  12.80182748 359.13420537]\n",
            "beta(x, 2)   = [5.00000000e-01 3.33333333e-02 9.09090909e-03 9.90099010e-05]\n"
          ]
        }
      ]
    },
    {
      "cell_type": "code",
      "source": [
        "\n",
        "# Error function (integral of Gaussian)\n",
        "# its complement, and its inverse\n",
        "x = np.array([0, 0.3, 0.7, 1.0])\n",
        "print(\"erf(x)  =\", special.erf(x))\n",
        "print(\"erfc(x) =\", special.erfc(x))\n",
        "print(\"erfinv(x) =\", special.erfinv(x))"
      ],
      "metadata": {
        "colab": {
          "base_uri": "https://localhost:8080/"
        },
        "id": "19cXhUnuAOuv",
        "outputId": "9b520926-06c1-4a2a-dbc4-9216eb9c1ae4"
      },
      "execution_count": null,
      "outputs": [
        {
          "output_type": "stream",
          "name": "stdout",
          "text": [
            "erf(x)  = [0.         0.32862676 0.67780119 0.84270079]\n",
            "erfc(x) = [1.         0.67137324 0.32219881 0.15729921]\n",
            "erfinv(x) = [0.         0.27246271 0.73286908        inf]\n"
          ]
        }
      ]
    },
    {
      "cell_type": "markdown",
      "source": [
        "### Advanced Ufuncs\n"
      ],
      "metadata": {
        "id": "3wgTAV1JGPwT"
      }
    },
    {
      "cell_type": "code",
      "source": [
        "x = np.arange(5)\n",
        "y = np.empty(5)\n",
        "np.multiply(x, 10, out=y) #assign output to the variable y (which is empty here)\n",
        "print(y)"
      ],
      "metadata": {
        "colab": {
          "base_uri": "https://localhost:8080/"
        },
        "id": "ppaV1W1nGVUt",
        "outputId": "d37fd8ec-3ef0-497c-fbec-6ec1a6dc1f97"
      },
      "execution_count": null,
      "outputs": [
        {
          "output_type": "stream",
          "name": "stdout",
          "text": [
            "[ 0. 10. 20. 30. 40.]\n"
          ]
        }
      ]
    },
    {
      "cell_type": "code",
      "source": [
        "y = np.zeros(20)\n",
        "np.power(2, x, out=y[::4])\n",
        "print(y)"
      ],
      "metadata": {
        "colab": {
          "base_uri": "https://localhost:8080/"
        },
        "id": "5SORH2OHGVX0",
        "outputId": "e36bbea4-0434-41e5-a105-478d82c0de17"
      },
      "execution_count": null,
      "outputs": [
        {
          "output_type": "stream",
          "name": "stdout",
          "text": [
            "[ 1.  0.  0.  0.  2.  0.  0.  0.  4.  0.  0.  0.  8.  0.  0.  0. 16.  0.\n",
            "  0.  0.]\n"
          ]
        }
      ]
    },
    {
      "cell_type": "code",
      "source": [
        "#aggregates\n",
        "x = np.arange(1,6)\n",
        "np.add.reduce(x) #reduce it down to one by adding the values"
      ],
      "metadata": {
        "colab": {
          "base_uri": "https://localhost:8080/"
        },
        "id": "5ImxfcPCG2da",
        "outputId": "d912a65e-6374-4fc6-8414-ee5f5864c2dc"
      },
      "execution_count": null,
      "outputs": [
        {
          "output_type": "execute_result",
          "data": {
            "text/plain": [
              "15"
            ]
          },
          "metadata": {},
          "execution_count": 29
        }
      ]
    },
    {
      "cell_type": "code",
      "source": [
        "np.multiply.reduce(x) #reduce it down to one by multiplying the values in the array"
      ],
      "metadata": {
        "colab": {
          "base_uri": "https://localhost:8080/"
        },
        "id": "RdiMGZRxHLg0",
        "outputId": "2a36e90a-567f-422b-c6da-5dad8130d3f5"
      },
      "execution_count": null,
      "outputs": [
        {
          "output_type": "execute_result",
          "data": {
            "text/plain": [
              "120"
            ]
          },
          "metadata": {},
          "execution_count": 31
        }
      ]
    },
    {
      "cell_type": "code",
      "source": [
        "np.add.accumulate(x)"
      ],
      "metadata": {
        "colab": {
          "base_uri": "https://localhost:8080/"
        },
        "id": "qCZNLrbRHSdM",
        "outputId": "44956dfd-9193-404f-b844-ea18b24198a8"
      },
      "execution_count": null,
      "outputs": [
        {
          "output_type": "execute_result",
          "data": {
            "text/plain": [
              "array([ 1,  3,  6, 10, 15])"
            ]
          },
          "metadata": {},
          "execution_count": 32
        }
      ]
    },
    {
      "cell_type": "code",
      "source": [
        "np.multiply.accumulate(x)"
      ],
      "metadata": {
        "colab": {
          "base_uri": "https://localhost:8080/"
        },
        "id": "y_bdv_YJHT3A",
        "outputId": "69c7d7c0-2fbb-4df3-ec27-1af2f74c5942"
      },
      "execution_count": null,
      "outputs": [
        {
          "output_type": "execute_result",
          "data": {
            "text/plain": [
              "array([  1,   2,   6,  24, 120])"
            ]
          },
          "metadata": {},
          "execution_count": 33
        }
      ]
    },
    {
      "cell_type": "code",
      "source": [
        "#outer products\n",
        "#can be used to make a multiplication table for example\n",
        "\n",
        "x = np.arange(1, 6)\n",
        "x = np.array([1, 2,3,4,5]) #goes row by row and multiplies by first value in array then second, then third for each row etc\n",
        "np.multiply.outer(x, x)"
      ],
      "metadata": {
        "colab": {
          "base_uri": "https://localhost:8080/"
        },
        "id": "ZgOMwr8fHUyS",
        "outputId": "7579f40f-ecd2-407e-a13a-2d1b3aab1346"
      },
      "execution_count": null,
      "outputs": [
        {
          "output_type": "execute_result",
          "data": {
            "text/plain": [
              "array([[ 1,  2,  3,  4,  5],\n",
              "       [ 2,  4,  6,  8, 10],\n",
              "       [ 3,  6,  9, 12, 15],\n",
              "       [ 4,  8, 12, 16, 20],\n",
              "       [ 5, 10, 15, 20, 25]])"
            ]
          },
          "metadata": {},
          "execution_count": 44
        }
      ]
    },
    {
      "cell_type": "code",
      "source": [
        "\n"
      ],
      "metadata": {
        "colab": {
          "base_uri": "https://localhost:8080/"
        },
        "id": "IFtfGjBpHi_H",
        "outputId": "81d08fcd-5a4d-4edd-d8ff-29726e077643"
      },
      "execution_count": null,
      "outputs": [
        {
          "output_type": "execute_result",
          "data": {
            "text/plain": [
              "array([1, 2, 3, 4, 5])"
            ]
          },
          "metadata": {},
          "execution_count": 36
        }
      ]
    },
    {
      "cell_type": "code",
      "source": [],
      "metadata": {
        "id": "Z03xgDETH3w6"
      },
      "execution_count": null,
      "outputs": []
    }
  ]
}