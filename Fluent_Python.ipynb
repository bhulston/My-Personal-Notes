{
  "cells": [
    {
      "cell_type": "markdown",
      "metadata": {
        "id": "view-in-github",
        "colab_type": "text"
      },
      "source": [
        "<a href=\"https://colab.research.google.com/github/bhulston/My-Personal-Notes/blob/main/Fluent_Python.ipynb\" target=\"_parent\"><img src=\"https://colab.research.google.com/assets/colab-badge.svg\" alt=\"Open In Colab\"/></a>"
      ]
    },
    {
      "cell_type": "code",
      "execution_count": null,
      "metadata": {
        "id": "VCuWpT13BnBD"
      },
      "outputs": [],
      "source": [
        "import collections\n"
      ]
    },
    {
      "cell_type": "markdown",
      "metadata": {
        "id": "SWWdNZDeCirY"
      },
      "source": [
        "**Fluent Python**\n",
        "\n",
        "\n",
        "Chapters\n",
        "*   Python data model\n",
        "*   List item\n",
        "\n"
      ]
    },
    {
      "cell_type": "markdown",
      "metadata": {
        "id": "lK2_uUTjCx78"
      },
      "source": [
        "\n",
        "\n",
        "\n",
        "--- Python data model ---\n",
        "\n",
        "1. A Pythonic Card Deck\n",
        "\n",
        "\n",
        "\n",
        "\n"
      ]
    },
    {
      "cell_type": "code",
      "execution_count": null,
      "metadata": {
        "id": "nLef3zVdBxRO"
      },
      "outputs": [],
      "source": [
        "\n",
        "Card = collections.namedtuple('Card', ['rank', 'suit']) #named tuple is a bundle of attributes with no custom methods. represents a card\n",
        "#since any object can get assigned to a class in Python, we can assign these later to FrenchDeck\n",
        "\n",
        "class FrenchDeck:\n",
        "  ranks = [str(n) for n in range(2,11)] + list('JQKA') #ranks is a list from 2 to 11 then JQKA\n",
        "  suits = 'spades diamonds clubs hearts'.split() #splits the large string based on white spaces in between\n",
        "\n",
        "  def __init__(self):\n",
        "    #initial constructor when initialized. self._cards becomes the cards in the deck, the variable for it\n",
        "    self._cards = [Card(rank, suit) for suit in self.suits\n",
        "                                    for rank in self.ranks] #Python shorthand for a nested for loop\n",
        "  def __len__(self):\n",
        "    return len(self._cards)\n",
        "  \n",
        "  def __getitem__(self, position):\n",
        "    return self._cards[position]\n"
      ]
    },
    {
      "cell_type": "code",
      "execution_count": null,
      "metadata": {
        "colab": {
          "base_uri": "https://localhost:8080/"
        },
        "id": "kaw-OD1tESau",
        "outputId": "fd399b81-ae9f-4fa8-c9d7-24532067ab30"
      },
      "outputs": [
        {
          "data": {
            "text/plain": [
              "Card(rank='7', suit='diamonds')"
            ]
          },
          "execution_count": 24,
          "metadata": {},
          "output_type": "execute_result"
        }
      ],
      "source": [
        "beer_card = Card('7', 'diamonds')\n",
        "beer_card"
      ]
    },
    {
      "cell_type": "code",
      "execution_count": null,
      "metadata": {
        "id": "IAgaNJUlCfxj"
      },
      "outputs": [],
      "source": [
        "##################\n",
        "# What is innit? #\n",
        "##################\n",
        "\n",
        "class MyClass(object):\n",
        "    i = 123\n",
        "    def __init__(self):\n",
        "        self.i = 345\n",
        "     \n",
        "a = MyClass()\n",
        "print(a.i)\n",
        "print(MyClass.i)\n",
        "\n",
        "#innit is basically a method that gets called when the class is assigned to a variable, or when the constructor is called.\n",
        "#the i = 123 basically is a static attribute accessible for the lifetime of the class. \n",
        "#MyClass.i calls 123, while the other calls 345 because the constructor was used to make a, thus calling on the init (short for initial probably)\n",
        "\n",
        "\n",
        "####################\n",
        "####################\n",
        "####################"
      ]
    },
    {
      "cell_type": "code",
      "execution_count": null,
      "metadata": {
        "colab": {
          "base_uri": "https://localhost:8080/"
        },
        "id": "5TblPDjgCgZI",
        "outputId": "b62bf97f-0d2b-4b47-f3c3-473804ebfcea"
      },
      "outputs": [
        {
          "data": {
            "text/plain": [
              "52"
            ]
          },
          "execution_count": 27,
          "metadata": {},
          "output_type": "execute_result"
        }
      ],
      "source": [
        "deck = FrenchDeck()\n",
        "len(deck) #len makes the deck act like a pythonic collection"
      ]
    },
    {
      "cell_type": "code",
      "execution_count": null,
      "metadata": {
        "id": "ppYpwi7sCghV"
      },
      "outputs": [],
      "source": [
        "#because we have __getitem__, this delegates to the [] operator of self._cards[position], it now supports slicing and  use of []\n",
        "\n",
        "deck[:3] #0 index and 3 not included\n",
        "\n",
        "#it also beomes iterable\n",
        "for card in deck:\n",
        "  print(card)\n",
        "\n",
        "#we also unlock the reversed()\n",
        "for card in reversed(deck):\n",
        "  print(card)\n",
        "\n"
      ]
    },
    {
      "cell_type": "code",
      "execution_count": null,
      "metadata": {
        "colab": {
          "base_uri": "https://localhost:8080/"
        },
        "id": "JhcHxvIICgvm",
        "outputId": "9aa2a22c-4ee4-4cc6-9ef0-531e37868ced"
      },
      "outputs": [
        {
          "data": {
            "text/plain": [
              "Card(rank='9', suit='hearts')"
            ]
          },
          "execution_count": 8,
          "metadata": {},
          "output_type": "execute_result"
        }
      ],
      "source": [
        "#Python has function to get random items from a sequence. random.choice\n",
        "from random import choice\n",
        "choice(deck)"
      ]
    },
    {
      "cell_type": "code",
      "execution_count": null,
      "metadata": {
        "colab": {
          "base_uri": "https://localhost:8080/"
        },
        "id": "fjTgUIqiGXfM",
        "outputId": "d77b9e60-b2fa-426e-d836-43532d0be70b"
      },
      "outputs": [
        {
          "data": {
            "text/plain": [
              "True"
            ]
          },
          "execution_count": 13,
          "metadata": {},
          "output_type": "execute_result"
        }
      ],
      "source": [
        "#iteration is implicit, no __contains__ method means the \"in\" operator does a sequential scan\n",
        "  #so we can use it in\n",
        "Card('Q', 'hearts') in deck\n"
      ]
    },
    {
      "cell_type": "code",
      "execution_count": null,
      "metadata": {
        "id": "PPV3xdgXChE8"
      },
      "outputs": [],
      "source": [
        "suit_values = dict(spades = 3, hearts = 2, diamonds = 1, clubs = 0) #dictionary\n",
        "\n",
        "def spades_high(card):\n",
        "  #takes a card and ranks it from 0 to 51\n",
        "  rank_value = FrenchDeck.ranks.index(card.rank)\n",
        "    #ranks is the list of 2-A, then finds index from 0 to 12. Here I am finding the value of the card from 0 to 12. 13 values in poker\n",
        "  return rank_value * len(suit_values) + suit_values[card.suit]\n",
        "    #Any 3 is better than any 2, so since there are 4 suits. We multiply every number by 4\n",
        "      #so for 2s u have ranks of 8 + the value of the suit.\n",
        "        #8, 9 , 10, 11\n",
        "        #then 12 would be next value of the lowest 3\n",
        "        "
      ]
    },
    {
      "cell_type": "code",
      "execution_count": null,
      "metadata": {
        "id": "kmcFdmRLHRtP"
      },
      "outputs": [],
      "source": [
        "for card in sorted(deck, key=spades_high, reverse= True): #so for using sorted, key = a method that takes an input of the for value\n",
        "  print(card)                                  #Then it applies that method and takes a value, and sorts it by those values"
      ]
    },
    {
      "cell_type": "markdown",
      "metadata": {
        "id": "hcSKaN71KN6c"
      },
      "source": [
        "*Some Additional Notes at end of section:*\n",
        "\n",
        "\n",
        "*   Frenchdeck, implicitly inherits from object because that is the default in Python 3. \n",
        "  \n",
        "\n",
        "> The functionality is not inherited though. With those special methods len & getitem, it can behave like a standard Python sequence with these. And the standard library like random reversed sorted\n",
        "\n",
        "\n",
        "*   Essentially these special methods I wrote are just going to pass of operations to the list object *self._cards*\n",
        "\n",
        "\n",
        "*   Last Note: the deck cannot yet be shuffled because it is immutable.This is changed with '____setitem____' which we look at later\n",
        "\n",
        "\n",
        "\n"
      ]
    },
    {
      "cell_type": "code",
      "execution_count": null,
      "metadata": {
        "id": "dKbgKZhDJtB-"
      },
      "outputs": [],
      "source": []
    },
    {
      "cell_type": "code",
      "execution_count": null,
      "metadata": {
        "id": "1goOUYhkJqxW"
      },
      "outputs": [],
      "source": []
    },
    {
      "cell_type": "markdown",
      "metadata": {
        "id": "QyCeH9xzL7Eu"
      },
      "source": [
        "--Special Methods and How to Use Them--\n",
        "\n",
        "\n",
        "\n",
        "*   With special methods, you never write \"my_object._ _ len _ _()\". It is instead called on by the Python Interpreter\n",
        "*   Generally what happens is that when i say \"for i in x\", this actually calls on iter(x) which in turn maybe call on x. _ _ iter _ _() if it is available, same with other ones. but when I create my own customer object, things like the __getitem__ are not ready to be called on\n",
        "\n",
        "\n"
      ]
    },
    {
      "cell_type": "code",
      "execution_count": null,
      "metadata": {
        "id": "TrbMmVt-Jq8q"
      },
      "outputs": [],
      "source": []
    },
    {
      "cell_type": "code",
      "execution_count": null,
      "metadata": {
        "id": "3IuzLu8IJrEd"
      },
      "outputs": [],
      "source": []
    },
    {
      "cell_type": "markdown",
      "metadata": {
        "id": "EqfD2_H7M8oq"
      },
      "source": [
        "--Emulating Numeric Types--\n",
        "\n"
      ]
    },
    {
      "cell_type": "code",
      "execution_count": null,
      "metadata": {
        "id": "MgfOyU15JrY0"
      },
      "outputs": [],
      "source": [
        "#by numeric types, we mean types that can be operated on by things like addition and multiplication"
      ]
    },
    {
      "cell_type": "code",
      "execution_count": null,
      "metadata": {
        "id": "9ILaq0rWJrhF"
      },
      "outputs": [],
      "source": [
        "#imports\n",
        "from math import hypot\n",
        "\n",
        "#create a vector class\n",
        "class Vector:\n",
        "\n",
        "  def __init__(self, x=0, y=0): #initial run of code, defaults to 0 for both\n",
        "    self.x = x\n",
        "    self.y = y\n",
        "\n",
        "  def __repr__(self): #how the function represents itself when printed or called on\n",
        "  #when no __str__ is available, it calls here for prints by default\n",
        "    #return 'Vector(%r, %r)' % (self.x, self.y)\n",
        "    return \"Vector({}, {})\".format(self.x, self.y)\n",
        "\n",
        "  def __abs__(self): #absolute value function usually for certain things. In this case, we rewrite it so that it finds the absolute value of the vectors, aka the hypotenuse\n",
        "  #so abs(Vector(3,4)) = 5 or sqrt(3^2 + 5^2)\n",
        "    return hypot(self.x, self.y) #from the import\n",
        "  \n",
        "  def __bool__(self): #if bool is not implemented, it just looks for length, and if length is 0, bool returns false \n",
        "    return bool(abs(self))\n",
        "    #other implementation\n",
        "    #return bool(self.x or self.y). Starts with x, if x is 0 then goes to y, otherwise it will return as true\n",
        "      #therefore, bool(Vector(0,0)) is False\n",
        "  \n",
        "  def __add__(self, other): #what the plus operand does between two vectors. \n",
        "    x = self.x + other.x\n",
        "    y = self.y + other.y\n",
        "    return Vector(x, y)\n",
        "  \n",
        "  def __mul__(self, scalar): #what the multiplication operand does between two vectors\n",
        "    return Vector(self.x * scalar, self.y * scalar)\n",
        "\n",
        "  def __str__(self): #when this is present, just v will put out the __repr__, if you print, it will print out the vector\n",
        "    return \"This is a vector\"\n",
        "\n"
      ]
    },
    {
      "cell_type": "code",
      "execution_count": null,
      "metadata": {
        "id": "ZsCSZFJsJro9"
      },
      "outputs": [],
      "source": [
        "v = Vector(2,1)\n",
        "v1 = Vector (2,3)"
      ]
    },
    {
      "cell_type": "code",
      "execution_count": null,
      "metadata": {
        "id": "3lRno2fKJrt9"
      },
      "outputs": [],
      "source": [
        "v2 = Vector(0,0)"
      ]
    },
    {
      "cell_type": "code",
      "execution_count": null,
      "metadata": {
        "colab": {
          "background_save": true,
          "base_uri": "https://localhost:8080/"
        },
        "id": "xnTwnPX_Jryr",
        "outputId": "4dc64e27-c9fd-4fbb-be58-df4896132677"
      },
      "outputs": [
        {
          "data": {
            "text/plain": [
              "True"
            ]
          },
          "execution_count": 27,
          "metadata": {},
          "output_type": "execute_result"
        }
      ],
      "source": [
        "bool(v1)"
      ]
    },
    {
      "cell_type": "code",
      "execution_count": null,
      "metadata": {
        "id": "4iRULjw7Jr2W"
      },
      "outputs": [],
      "source": []
    },
    {
      "cell_type": "code",
      "execution_count": null,
      "metadata": {
        "id": "GMyCInOLJr6G"
      },
      "outputs": [],
      "source": []
    },
    {
      "cell_type": "code",
      "execution_count": null,
      "metadata": {
        "id": "ZmDfhspHJr99"
      },
      "outputs": [],
      "source": []
    }
  ],
  "metadata": {
    "colab": {
      "provenance": [],
      "authorship_tag": "ABX9TyMPIU5YPT8quMi0vfOyxO+Z",
      "include_colab_link": true
    },
    "kernelspec": {
      "display_name": "Python 3",
      "name": "python3"
    },
    "language_info": {
      "name": "python"
    }
  },
  "nbformat": 4,
  "nbformat_minor": 0
}