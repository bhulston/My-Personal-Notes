{
  "nbformat": 4,
  "nbformat_minor": 0,
  "metadata": {
    "colab": {
      "provenance": []
    },
    "kernelspec": {
      "name": "python3",
      "display_name": "Python 3"
    },
    "language_info": {
      "name": "python"
    }
  },
  "cells": [
    {
      "cell_type": "markdown",
      "source": [],
      "metadata": {
        "id": "U2EY9VZ8MHjT"
      }
    },
    {
      "cell_type": "code",
      "source": [
        "%matplotlib inline\n",
        "import matplotlib.pyplot as plt\n",
        "import seaborn as sns; sns.set()\n",
        "import numpy as np"
      ],
      "metadata": {
        "id": "CQPga174MC88"
      },
      "execution_count": null,
      "outputs": []
    },
    {
      "cell_type": "code",
      "source": [
        "rng = np.random.default_rng(seed = 0)"
      ],
      "metadata": {
        "id": "wcvDqtf3MImt"
      },
      "execution_count": null,
      "outputs": []
    },
    {
      "cell_type": "markdown",
      "source": [
        "## Linear Regression Example\n",
        "\n",
        "Below is a an example of the most common linear model\n",
        "A straight-line fit is in the form:\n",
        "$$\n",
        "y = ax + b\n",
        "$$\n",
        "where $a$ is *slope*, and $b$ is the *intercept*.\n",
        "\n",
        "Below is a generated dataset scattered about a line with a slope of 2 and an intercept of -1 (plus some noise):"
      ],
      "metadata": {
        "id": "3chXdBi_XOkj"
      }
    },
    {
      "cell_type": "code",
      "source": [
        "x = 10 * rng.uniform(1,6, size = 10)\n",
        "y = 2 * x - 1 + rng.uniform(-1,1, size = 10)\n",
        "plt.scatter(x, y);"
      ],
      "metadata": {
        "colab": {
          "base_uri": "https://localhost:8080/",
          "height": 268
        },
        "id": "aJG8kZY3Md0v",
        "outputId": "c422cb47-e8e1-48d2-caa5-a4f19cb45abd"
      },
      "execution_count": null,
      "outputs": [
        {
          "output_type": "display_data",
          "data": {
            "text/plain": [
              "<Figure size 432x288 with 1 Axes>"
            ],
            "image/png": "[encoded data removed]"
          },
          "metadata": {}
        }
      ]
    },
    {
      "cell_type": "markdown",
      "source": [
        "Using Scikit-Learn's ``LinearRegression`` to find the \"best fit\" line:"
      ],
      "metadata": {
        "id": "YvaEgtqwX_Fm"
      }
    },
    {
      "cell_type": "code",
      "source": [
        "from sklearn.linear_model import LinearRegression\n",
        "model = LinearRegression(fit_intercept=True) #set as True or intercept is set to 0\n",
        " \n",
        "model.fit(x.reshape(-1,1), y) #put array into a 2d shape\n",
        "\n",
        "xfit = np.linspace(0, 60)\n",
        "yfit = model.predict(xfit.reshape(-1,1)) \n",
        "\n",
        "plt.scatter(x, y)\n",
        "plt.plot(xfit, yfit);"
      ],
      "metadata": {
        "colab": {
          "base_uri": "https://localhost:8080/",
          "height": 268
        },
        "id": "99yVTruxMd9q",
        "outputId": "a89c5382-a4f8-44bc-de5e-e638b94de960"
      },
      "execution_count": null,
      "outputs": [
        {
          "output_type": "display_data",
          "data": {
            "text/plain": [
              "<Figure size 432x288 with 1 Axes>"
            ],
            "image/png": "[encoded data removed]"
          },
          "metadata": {}
        }
      ]
    },
    {
      "cell_type": "code",
      "source": [
        "print(\"Model slope:    \", model.coef_[0])\n",
        "print(\"Model intercept:\", model.intercept_)"
      ],
      "metadata": {
        "colab": {
          "base_uri": "https://localhost:8080/"
        },
        "id": "4uMPTZk2N9rP",
        "outputId": "570add2f-86a4-4115-c90f-03f0197b9921"
      },
      "execution_count": null,
      "outputs": [
        {
          "output_type": "stream",
          "name": "stdout",
          "text": [
            "Model slope:     2.011838348291699\n",
            "Model intercept: -1.742410620731988\n"
          ]
        }
      ]
    },
    {
      "cell_type": "markdown",
      "source": [
        "As we can see the model slope and intercept are very close to our inputs even with the amount of noise we added\n",
        "\n",
        "*   Slope input: 2\n",
        "*   Intercept input: -1\n",
        "\n"
      ],
      "metadata": {
        "id": "QclmMX58LnuQ"
      }
    },
    {
      "cell_type": "markdown",
      "source": [
        "# Multidimensional linear models\n"
      ],
      "metadata": {
        "id": "SRoJCU11xXrm"
      }
    },
    {
      "cell_type": "code",
      "source": [
        "rng = np.random.RandomState(1)"
      ],
      "metadata": {
        "id": "qycK7IpAxhHp"
      },
      "execution_count": null,
      "outputs": []
    },
    {
      "cell_type": "code",
      "source": [
        "X = 10 * rng.rand(100,3)\n",
        "y = 0.5 + np.dot(X, [1.5, -2., 1.])\n",
        "\n",
        "model.fit(X,y)\n",
        "print(model.intercept_)\n",
        "print(model.coef_)\n",
        "\n",
        "#so the model has an intercept of 0.5 and the coefficients are denoted in the y\n"
      ],
      "metadata": {
        "colab": {
          "base_uri": "https://localhost:8080/"
        },
        "id": "QZDHacdDxiYS",
        "outputId": "32482353-b671-40f5-9c41-04a7f11aac07"
      },
      "execution_count": null,
      "outputs": [
        {
          "output_type": "stream",
          "name": "stdout",
          "text": [
            "0.4999999999999969\n",
            "[ 1.5 -2.   1. ]\n"
          ]
        }
      ]
    },
    {
      "cell_type": "code",
      "source": [],
      "metadata": {
        "id": "m5TqnYt91G6q"
      },
      "execution_count": null,
      "outputs": []
    },
    {
      "cell_type": "code",
      "source": [],
      "metadata": {
        "id": "LtrGpus51G_f"
      },
      "execution_count": null,
      "outputs": []
    },
    {
      "cell_type": "code",
      "source": [],
      "metadata": {
        "id": "6oLttOd61HAd"
      },
      "execution_count": null,
      "outputs": []
    }
  ]
}